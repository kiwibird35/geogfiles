{
  "nbformat": 4,
  "nbformat_minor": 0,
  "metadata": {
    "kernelspec": {
      "display_name": "Python 3 (ipykernel)",
      "language": "python",
      "name": "python3"
    },
    "language_info": {
      "codemirror_mode": {
        "name": "ipython",
        "version": 3
      },
      "file_extension": ".py",
      "mimetype": "text/x-python",
      "name": "python",
      "nbconvert_exporter": "python",
      "pygments_lexer": "ipython3",
      "version": "3.9.7"
    },
    "colab": {
      "provenance": [],
      "include_colab_link": true
    }
  },
  "cells": [
    {
      "cell_type": "markdown",
      "metadata": {
        "id": "view-in-github",
        "colab_type": "text"
      },
      "source": [
        "<a href=\"https://colab.research.google.com/github/kiwibird35/geogfiles/blob/main/Copy_of_computational_issues_colab.ipynb\" target=\"_parent\"><img src=\"https://colab.research.google.com/assets/colab-badge.svg\" alt=\"Open In Colab\"/></a>"
      ]
    },
    {
      "cell_type": "markdown",
      "metadata": {
        "id": "3-NbSt-QeSCO"
      },
      "source": [
        "<a href=\"https://colab.research.google.com/github/gisalgs/notebooks/blob/main/computational_issues-colab.ipynb\">\n",
        "  <img src=\"https://colab.research.google.com/assets/colab-badge.svg\" alt=\"Open In Colab\"/>\n",
        "</a>\n",
        "\n",
        "# Computational Issues of Spatial Indexing\n",
        "\n",
        ">\"How long does getting thin take?\" asked Pooh anxiously.  \n",
        ">\"About a week, I should think.\"  \n",
        ">\"But I can't stay here for a *week*!\"  \n",
        ">\"You can *stay* all right, silly old Bear. It's getting you out which is so difficult.\"\n",
        ">\n",
        "><cite>A. A. Milne, Winnie-the-Pooh</cite>\n",
        "\n",
        ">\"And is all this common consciousness satisfied to use me as a black box? Since the black box works, is it unimportant to know what is inside? --- That doesn't suit me. I don't enjoy being a black box. I want to know what's inside.\"\n",
        ">\n",
        "><cite>Issac Asimov, Foundation and Earth</cite>\n",
        "\n",
        "\n",
        "The computational time for trees can be broken down to at least two parts. The first is the time used to construct the tree, and then it is the time the tree is used to query. The overall time complexity of building a balanced k-D tree is $O(n \\log_2 n)$. Searching a k-D only takes $O(\\log_2 n)$ time in average when the tree is balanced. For unbalanced trees, however, we can imagine a worst case where points are always aligned on one branch of the node and in this case the search time is $O(n)$, as same as the linear search (though the actual time might be longer because traversing a tree takes more time than traversing a list or an array).\n",
        "\n",
        "For point quadtrees, the cost of building a point quadtree is $O(n \\log_4 n)$ when points are randomly sorted before they are inserted to the tree as we discussed above. A simple search on a balanced point quadtree has a time complexity of $O(\\log_4 n)$ while the worst case would be $O(n)$ when the tree has only one node at each depth.\n",
        "\n",
        "The above discussion, however, is theoretical. In practice, the actual computational time may follow the overall trend as predicted, but there are also many other factors that have significant impacts on the performance. For example, the physical time used can vary a lot depending on whether the program is compiled into binary code (as C/C++ programs) or interpreted (as Python and Java). Generally speaking, interpreted programming languages such as Python are less efficient in terms of the actual running time because the code must be interpreted line by line. It should be noted that Python or Java is not the interpreted language in its original meaning where the interpreter literally goes through line by line for every time it runs the program. Instead, they often use an immediate representation of the code that is compiled in binary that runs faster. Still, interpreted languages are still generally slower than compiled languages such as C/C++. The difference may not be noticeable for small data (and probably we don't really care), but the difference will be big when we deal with large data sets.\n",
        "\n",
        "Aside from the programming language, how the algorithms are actually implemented will be a factor too. For example, the use of recursive functions, as convenient as it is, slows down the algorithm because of the repeated recursive function calls.\n",
        "\n"
      ]
    },
    {
      "cell_type": "code",
      "metadata": {
        "colab": {
          "base_uri": "https://localhost:8080/"
        },
        "id": "xphmdFmHeSCV",
        "outputId": "e746f29c-48fc-4b91-9752-9cbf2d092ea3"
      },
      "source": [
        "# Linux, Max, or Colab\n",
        "!uname -a\n",
        "!lscpu"
      ],
      "execution_count": null,
      "outputs": [
        {
          "output_type": "stream",
          "name": "stdout",
          "text": [
            "Linux 5717b34a21ff 5.4.104+ #1 SMP Sat Jun 5 09:50:34 PDT 2021 x86_64 x86_64 x86_64 GNU/Linux\n",
            "Architecture:        x86_64\n",
            "CPU op-mode(s):      32-bit, 64-bit\n",
            "Byte Order:          Little Endian\n",
            "CPU(s):              2\n",
            "On-line CPU(s) list: 0,1\n",
            "Thread(s) per core:  2\n",
            "Core(s) per socket:  1\n",
            "Socket(s):           1\n",
            "NUMA node(s):        1\n",
            "Vendor ID:           GenuineIntel\n",
            "CPU family:          6\n",
            "Model:               79\n",
            "Model name:          Intel(R) Xeon(R) CPU @ 2.20GHz\n",
            "Stepping:            0\n",
            "CPU MHz:             2200.142\n",
            "BogoMIPS:            4400.28\n",
            "Hypervisor vendor:   KVM\n",
            "Virtualization type: full\n",
            "L1d cache:           32K\n",
            "L1i cache:           32K\n",
            "L2 cache:            256K\n",
            "L3 cache:            56320K\n",
            "NUMA node0 CPU(s):   0,1\n",
            "Flags:               fpu vme de pse tsc msr pae mce cx8 apic sep mtrr pge mca cmov pat pse36 clflush mmx fxsr sse sse2 ss ht syscall nx pdpe1gb rdtscp lm constant_tsc rep_good nopl xtopology nonstop_tsc cpuid tsc_known_freq pni pclmulqdq ssse3 fma cx16 pcid sse4_1 sse4_2 x2apic movbe popcnt aes xsave avx f16c rdrand hypervisor lahf_lm abm 3dnowprefetch invpcid_single ssbd ibrs ibpb stibp fsgsbase tsc_adjust bmi1 hle avx2 smep bmi2 erms invpcid rtm rdseed adx smap xsaveopt arat md_clear arch_capabilities\n"
          ]
        }
      ]
    },
    {
      "cell_type": "code",
      "metadata": {
        "colab": {
          "base_uri": "https://localhost:8080/"
        },
        "id": "gBvEPA32eSCX",
        "outputId": "601fe6de-9151-4c4f-d14b-79c0b0187e3f"
      },
      "source": [
        "# Windows\n",
        "!wmic cpu get caption, deviceid, name, numberofcores, maxclockspeed"
      ],
      "execution_count": null,
      "outputs": [
        {
          "output_type": "stream",
          "name": "stdout",
          "text": [
            "/bin/bash: wmic: command not found\n"
          ]
        }
      ]
    },
    {
      "cell_type": "markdown",
      "metadata": {
        "id": "NP6DoNzceSCY"
      },
      "source": [
        "## 1. Performance of query using k-D trees and point quadtrees\n",
        "\n",
        "Here, we put our algorithms of k-D trees and point quadtrees into a test. We will simply compare the performance of using these trees, and we also compare them with the linear (brute-force) search approach. We test the performance by systematically controlling the size of the data and see how they catch up. The following are the packages that we will use."
      ]
    },
    {
      "cell_type": "code",
      "metadata": {
        "colab": {
          "base_uri": "https://localhost:8080/"
        },
        "id": "yR0y4b78eSCZ",
        "outputId": "6faf2c1f-76fc-4558-e498-f06ae1287ac7"
      },
      "source": [
        "# This is only needed in Jupyter notebook when the github repos are not cloned\n",
        "!git clone https://github.com/gisalgs/geom.git\n",
        "!git clone https://github.com/gisalgs/indexing.git"
      ],
      "execution_count": null,
      "outputs": [
        {
          "output_type": "stream",
          "name": "stdout",
          "text": [
            "Cloning into 'geom'...\n",
            "remote: Enumerating objects: 314, done.\u001b[K\n",
            "remote: Total 314 (delta 0), reused 0 (delta 0), pack-reused 314\u001b[K\n",
            "Receiving objects: 100% (314/314), 57.03 KiB | 6.34 MiB/s, done.\n",
            "Resolving deltas: 100% (177/177), done.\n",
            "Cloning into 'indexing'...\n",
            "remote: Enumerating objects: 170, done.\u001b[K\n",
            "remote: Total 170 (delta 0), reused 0 (delta 0), pack-reused 170\u001b[K\n",
            "Receiving objects: 100% (170/170), 33.41 KiB | 4.77 MiB/s, done.\n",
            "Resolving deltas: 100% (92/92), done.\n"
          ]
        }
      ]
    },
    {
      "cell_type": "code",
      "metadata": {
        "id": "bsEOtMkFeSCZ"
      },
      "source": [
        "from geom.point import *\n",
        "from indexing.kdtree1 import *\n",
        "from indexing.kdtree2a import *\n",
        "from indexing.kdtree3 import *\n",
        "from indexing.pointquadtree1 import *\n",
        "from indexing.pointquadtree3 import *\n",
        "\n",
        "from random import random, sample, uniform\n",
        "import time\n",
        "import copy"
      ],
      "execution_count": null,
      "outputs": []
    },
    {
      "cell_type": "markdown",
      "metadata": {
        "id": "m5KOLRFEeSCa"
      },
      "source": [
        "Now we write a function to do the testing. This function requires inputs of the number of points to be indexed in a tree, the number of points to be queried, and a boolean variable to specify if we need verbose (wordy) output."
      ]
    },
    {
      "cell_type": "code",
      "metadata": {
        "id": "-dE5jAyMeSCb"
      },
      "source": [
        "def test(npts, n, verbose=False):\n",
        "    points = [Point(random(), random()) for i in range(npts)]\n",
        "    time1 = time.time()\n",
        "    kdt1 = kdtree(points)\n",
        "    time2 = time.time()\n",
        "    treet1 = time2-time1\n",
        "    time1 = time.time()\n",
        "    kdt2 = kdtree2(points)\n",
        "    time2 = time.time()\n",
        "    treet2 = time2-time1\n",
        "    time1 = time.time()\n",
        "    kdt3 = pointquadtree(points)\n",
        "    time2 = time.time()\n",
        "    treet3 = time2-time1\n",
        "\n",
        "    t1 = 0 # time finding n points in kdtree\n",
        "    t2 = 0 # time for balanced kdtree\n",
        "    t3 = 0 # time for point quadtree\n",
        "    t4 = 0 # time for linear search\n",
        "    pp = sample(points, n)\n",
        "    for p in pp:\n",
        "        time1 = time.time()\n",
        "        p1 = query_kdtree(kdt1, p)\n",
        "        time2 = time.time()\n",
        "        t1 = t1 + time2-time1\n",
        "\n",
        "        time1 = time.time()\n",
        "        p1 = query_kdtree(kdt2, p)\n",
        "        time2 = time.time()\n",
        "        t2 = t2 + time2-time1\n",
        "\n",
        "        time1 = time.time()\n",
        "        p1 = search_pqtree(kdt3, p)\n",
        "        time2 = time.time()\n",
        "        t3 = t3 + time2-time1\n",
        "\n",
        "        time1 = time.time()\n",
        "        for i in range(len(points)):\n",
        "            if p == points[i]:\n",
        "                break\n",
        "        time2 = time.time()\n",
        "        t4 = t4 + time2-time1\n",
        "\n",
        "    if verbose:\n",
        "        print(\"{0:7} | {1:6.3f} {2:6.3f} {3:6.3f} | {4:6.3f} {5:6.3f} {6:6.3f} | {7:6.3f}\".format(\n",
        "            npts, treet1, treet2, treet3, t1, t2, t3, t4))\n",
        "    return npts, treet1, treet2, treet3, t1, t2, t3, t4"
      ],
      "execution_count": null,
      "outputs": []
    },
    {
      "cell_type": "markdown",
      "metadata": {
        "id": "rpSSJWKleSCd"
      },
      "source": [
        "Here is a quick demo of this function in searching for 100 random points from 10,000 points. The test() function has an input called verbose which can be used to make the function run silently without printing anything. But printing out the current result can be a good feature if we want to know how the program progresses during time (for a long wait)."
      ]
    },
    {
      "cell_type": "code",
      "metadata": {
        "scrolled": true,
        "colab": {
          "base_uri": "https://localhost:8080/"
        },
        "id": "4CynQuDVeSCe",
        "outputId": "353a4ce0-b2aa-4f3f-afe9-cbb91ed35e0a"
      },
      "source": [
        "t1 = test(10000, 100, True)"
      ],
      "execution_count": null,
      "outputs": [
        {
          "output_type": "stream",
          "name": "stdout",
          "text": [
            "  10000 |  0.463  0.129  0.428 |  0.005  0.003  0.004 |  0.343\n"
          ]
        }
      ]
    },
    {
      "cell_type": "markdown",
      "metadata": {
        "id": "t-jNMp82eSCf"
      },
      "source": [
        "The above quick test clearly shows the efficiency of using the indexing method for query. It also shows that building the tree may need some significant amount of time.\n",
        "\n",
        "Now we give it a more systematical test. More specifically, we use different numbers of points, ranging from 100,000 to **1,000,000**, with a step of 100,000. All the experiments were done on Now we give it a more systematical test. More specifically, we use different numbers of points, ranging from 100,000 to **1,000,000**, with a step of 100,000."
      ]
    },
    {
      "cell_type": "code",
      "metadata": {
        "scrolled": true,
        "colab": {
          "base_uri": "https://localhost:8080/"
        },
        "id": "A6-9nFU6eSCf",
        "outputId": "8fa4cb16-a600-41f6-e6d7-36b309fd2f5f"
      },
      "source": [
        "time1 = time.time()\n",
        "n = 100\n",
        "alltime = []\n",
        "for npts in range(100000, 1000001, 100000):\n",
        "    alltime.append(test(npts, n, True))\n",
        "time2=time.time()"
      ],
      "execution_count": null,
      "outputs": [
        {
          "output_type": "stream",
          "name": "stdout",
          "text": [
            " 100000 |  4.859  1.161  3.454 |  0.006  0.003  0.004 |  3.126\n",
            " 200000 |  7.937  2.912  7.243 |  0.007  0.004  0.005 |  7.643\n",
            " 300000 | 12.698  4.633 12.015 |  0.007  0.004  0.005 | 11.117\n",
            " 400000 | 17.347  6.574 15.454 |  0.007  0.004  0.005 | 13.839\n",
            " 500000 | 21.294  8.752 19.816 |  0.007  0.005  0.006 | 19.881\n",
            " 600000 | 26.253 10.281 26.247 |  0.008  0.004  0.006 | 23.516\n",
            " 700000 | 32.323 12.813 29.117 |  0.008  0.004  0.006 | 27.964\n",
            " 800000 | 36.911 14.333 33.895 |  0.007  0.004  0.006 | 32.772\n",
            " 900000 | 40.511 17.152 40.291 |  0.007  0.004  0.006 | 31.231\n",
            "1000000 | 45.364 18.669 44.070 |  0.007  0.004  0.006 | 37.429\n"
          ]
        }
      ]
    },
    {
      "cell_type": "markdown",
      "metadata": {
        "id": "LEg-nTyCeSCg"
      },
      "source": [
        "The following code reports some numbers, including the total time in minutes and the time used on tree, where almost all of that time are used to construct the tree (so using the tree doesn't take much time)."
      ]
    },
    {
      "cell_type": "code",
      "metadata": {
        "colab": {
          "base_uri": "https://localhost:8080/"
        },
        "id": "9OUD6j3deSCg",
        "outputId": "3613782e-59bf-44c3-fd54-ccea4215fd7d"
      },
      "source": [
        "t1 = (time2-time1)/60\n",
        "t2 = sum([sum(alltime[i][1:]) for i in range(len(alltime))])/60\n",
        "t3 = sum([sum(alltime[i][1:7]) for i in range(len(alltime))])/60\n",
        "t4 = sum([sum(alltime[i][1:4]) for i in range(len(alltime))])/60\n",
        "print('total computing time: {:.1f} minutes'.format(t1))\n",
        "print('Total processing time: {:.1f} minutes'.format(t2))\n",
        "print('Total time on trees: {:.1f} minutes'.format(t3))\n",
        "print('Tree construction time: {:.1f} minutes'.format(t4))"
      ],
      "execution_count": null,
      "outputs": [
        {
          "output_type": "stream",
          "name": "stdout",
          "text": [
            "total computing time: 13.3 minutes\n",
            "Total processing time: 13.1 minutes\n",
            "Total time on trees: 9.6 minutes\n",
            "Tree construction time: 9.6 minutes\n"
          ]
        }
      ]
    },
    {
      "cell_type": "markdown",
      "metadata": {
        "id": "cbM4vWTNeSCi"
      },
      "source": [
        "As a way of comparison, the following shows previous results on different platforms.\n",
        "\n",
        "Intel Next Computing Unit 10 (released in 2020) with Intel Core i7-10710U CPU 1.10GHz and 16 GB RAM, running the iPython notebook on Ubuntu Linux 20.04 LTS:\n",
        "\n",
        "```\n",
        " 100000 |  1.920  0.828  2.066 |  0.005  0.003  0.004 |  2.368\n",
        " 200000 |  4.247  1.914  3.836 |  0.005  0.003  0.003 |  5.215\n",
        " 300000 |  6.216  3.260  6.228 |  0.005  0.003  0.004 |  8.613\n",
        " 400000 |  8.719  4.391  9.310 |  0.006  0.003  0.004 | 12.813\n",
        " 500000 | 11.204  5.569 11.880 |  0.005  0.003  0.004 | 14.315\n",
        " 600000 | 14.169  6.801 14.790 |  0.005  0.003  0.004 | 18.673\n",
        " 700000 | 16.430  8.005 17.451 |  0.006  0.003  0.004 | 19.009\n",
        " 800000 | 19.018  9.822 18.863 |  0.006  0.003  0.004 | 24.452\n",
        " 900000 | 22.156 11.036 23.006 |  0.006  0.003  0.004 | 26.543\n",
        "1000000 | 24.699 12.680 24.078 |  0.006  0.003  0.004 | 28.464\n",
        "```\n",
        "\n",
        "Surface Pro 6 with 2.11 GHz Intel Core i7and 8 GB RAM, using the Jupyter iPython notebook on Windows 10:\n",
        "\n",
        "```\n",
        " 100000 |  2.594  1.091  2.524 |  0.000  0.000  0.016 |  3.250\n",
        " 200000 |  6.809  2.719  5.968 |  0.000  0.000  0.000 |  8.220\n",
        " 300000 | 12.339  4.629  8.893 |  0.001  0.001  0.000 | 10.954\n",
        " 400000 | 15.386  5.906 12.799 |  0.047  0.001  0.000 | 15.611\n",
        " 500000 | 19.815  7.579 16.616 |  0.016  0.000  0.016 | 18.221\n",
        " 600000 | 24.587 10.533 21.079 |  0.016  0.000  0.000 | 23.317\n",
        " 700000 | 29.092 12.926 24.468 |  0.001  0.000  0.000 | 24.379\n",
        " 800000 | 28.180 12.628 21.286 |  0.000  0.001  0.000 | 26.054\n",
        " 900000 | 30.781 14.205 26.176 |  0.000  0.000  0.017 | 31.078\n",
        "1000000 | 34.803 16.431 29.153 |  0.000  0.001  0.016 | 34.575\n",
        "```\n",
        "\n",
        "\n",
        "Mid 2014 MacBook Pro with 2.6 GHz Intel Core i5 and 8 GB RAM:\n",
        "\n",
        "```\n",
        " 100000 |  3.508  1.600  4.014 |  0.008  0.004  0.005 |  3.660\n",
        " 200000 |  8.407  2.853  7.150 |  0.006  0.004  0.005 |  7.057\n",
        " 300000 | 11.624  4.477 10.934 |  0.006  0.004  0.005 |  9.613\n",
        " 400000 | 16.723  6.327 15.328 |  0.007  0.004  0.005 | 13.463\n",
        " 500000 | 22.370  8.158 18.752 |  0.007  0.004  0.005 | 17.582\n",
        " 600000 | 26.293 10.046 23.697 |  0.007  0.004  0.005 | 20.960\n",
        " 700000 | 30.832 12.099 28.383 |  0.008  0.004  0.006 | 24.593\n",
        " 800000 | 37.189 14.227 32.229 |  0.008  0.004  0.005 | 27.305\n",
        " 900000 | 40.909 16.261 34.749 |  0.008  0.004  0.005 | 35.873\n",
        "1000000 | 46.114 19.159 41.113 |  0.008  0.004  0.006 | 35.620\n",
        "```"
      ]
    },
    {
      "cell_type": "markdown",
      "metadata": {
        "id": "u55KWjI1eSCi"
      },
      "source": [
        "We now plot the results for a better visualization of the difference in the performances. Here is a shot at the construction times used for different kinds of trees:"
      ]
    },
    {
      "cell_type": "code",
      "metadata": {
        "id": "NTceS83UeSCi"
      },
      "source": [
        "%matplotlib inline\n",
        "import matplotlib.pyplot as plt"
      ],
      "execution_count": null,
      "outputs": []
    },
    {
      "cell_type": "code",
      "metadata": {
        "colab": {
          "base_uri": "https://localhost:8080/",
          "height": 295
        },
        "id": "iHaJJbPUeSCj",
        "outputId": "a9e03575-b9c5-4239-f733-14bf883b2afe"
      },
      "source": [
        "x = [ alltime[i][0]/1000 for i in range(len(alltime))]\n",
        "plt.plot(x, [ alltime[i][1] for i in range(len(alltime))], label='k-D tree')\n",
        "plt.plot(x, [ alltime[i][3] for i in range(len(alltime))], label = 'point quadtree')\n",
        "plt.plot(x, [ alltime[i][2] for i in range(len(alltime))], label='k-D tree (balanced)')\n",
        "plt.legend(loc='upper left')\n",
        "plt.xlabel('Number of points (x1000)')\n",
        "plt.ylabel('Seconds')\n",
        "plt.title('Time for tree construction')\n",
        "plt.show()"
      ],
      "execution_count": null,
      "outputs": [
        {
          "output_type": "display_data",
          "data": {
            "image/png": "[encoded data removed]",
            "text/plain": [
              "<Figure size 432x288 with 1 Axes>"
            ]
          },
          "metadata": {
            "needs_background": "light"
          }
        }
      ]
    },
    {
      "cell_type": "markdown",
      "metadata": {
        "id": "Ifg5mb-seSCj"
      },
      "source": [
        "The benefit of using the tree for query is obvious:"
      ]
    },
    {
      "cell_type": "code",
      "metadata": {
        "colab": {
          "base_uri": "https://localhost:8080/",
          "height": 295
        },
        "id": "eBWcn8a0eSCj",
        "outputId": "39ac4e2a-c91c-4b11-cf5c-8eddef129b1b"
      },
      "source": [
        "plt.plot(x, [ alltime[i][7] for i in range(len(alltime))], label='linear')\n",
        "plt.plot(x, [ alltime[i][4] for i in range(len(alltime))], label='k-D tree')\n",
        "plt.plot(x, [ alltime[i][6] for i in range(len(alltime))], label='point quadtree')\n",
        "plt.plot(x, [ alltime[i][5] for i in range(len(alltime))], label='k-D tree (balanced)')\n",
        "plt.legend(loc='upper left')\n",
        "plt.xlabel('Number of points (x1000)')\n",
        "plt.ylabel('Seconds')\n",
        "plt.title('Time to query 100 points')\n",
        "plt.show()"
      ],
      "execution_count": null,
      "outputs": [
        {
          "output_type": "display_data",
          "data": {
            "image/png": "[encoded data removed]",
            "text/plain": [
              "<Figure size 432x288 with 1 Axes>"
            ]
          },
          "metadata": {
            "needs_background": "light"
          }
        }
      ]
    },
    {
      "cell_type": "markdown",
      "metadata": {
        "id": "3-NsJTWdeSCk"
      },
      "source": [
        "The trend of using the tree across the three trees is not clear based on the test we just did, but we can still see from below that the balanced k-D tree is clearly positioned at the bottom of the three curves, showing the efficiency of the balanced tree."
      ]
    },
    {
      "cell_type": "code",
      "metadata": {
        "colab": {
          "base_uri": "https://localhost:8080/",
          "height": 295
        },
        "id": "hgbvzaTfeSCk",
        "outputId": "b315e7d3-7b5f-4f42-c04d-4041f99c28ce"
      },
      "source": [
        "plt.plot(x, [ alltime[i][4] for i in range(len(alltime))], label='k-D tree')\n",
        "plt.plot(x, [ alltime[i][6] for i in range(len(alltime))], label='point quadtree')\n",
        "plt.plot(x, [ alltime[i][5] for i in range(len(alltime))], label='k-D tree (balanced)')\n",
        "plt.legend(loc='upper left')\n",
        "plt.xlabel('Number of points (x1000)')\n",
        "plt.ylabel('Seconds')\n",
        "plt.title('Time to query 100 points')\n",
        "plt.legend(loc='right', bbox_to_anchor=(1.45, 0.5))\n",
        "plt.show()"
      ],
      "execution_count": null,
      "outputs": [
        {
          "output_type": "display_data",
          "data": {
            "image/png": "[encoded data removed]",
            "text/plain": [
              "<Figure size 432x288 with 1 Axes>"
            ]
          },
          "metadata": {
            "needs_background": "light"
          }
        }
      ]
    },
    {
      "cell_type": "markdown",
      "metadata": {
        "id": "u8PCnFsDeSCl"
      },
      "source": [
        "## 2. Performance of orthogonal range search\n",
        "\n",
        "We first define a few functions to make it convenient for testing different cases.\n",
        "\n",
        "A note on changes: The textbook has the following line to create random points.\n",
        "\n",
        "`randpoints0 = [Point(randrange(xmin, xmax), randrange(ymin, ymax)) for i in range(npts)]`\n",
        "\n",
        "However, `randrange` will only return integers which will likely produce duplicated points. Here we write a new function called `rand_point` that uses `random.uniform` to generate random points."
      ]
    },
    {
      "cell_type": "code",
      "metadata": {
        "id": "08L8W3FpeSCm"
      },
      "source": [
        "# A rectangle is defined as [ [xmin, xmax], [ymin, ymax]]\n",
        "\n",
        "def in_rect(p, rect):\n",
        "    x, y = p.x, p.y\n",
        "    if not (rect[0][0]>x or rect[0][1] < x or rect[1][0]>y or rect[1][1] < y):\n",
        "        return True\n",
        "    return False\n",
        "\n",
        "def rectangular_linear(points, rect):\n",
        "    l = []\n",
        "    for p in points:\n",
        "        if in_rect(p, rect):\n",
        "            l.append(p)\n",
        "    return l\n",
        "\n",
        "def rand_point(rect):\n",
        "    '''generates a random point within a rect'''\n",
        "    x = uniform(rect[0][0], rect[0][1])\n",
        "    y = uniform(rect[1][0], rect[1][1])\n",
        "    return Point(x, y)\n",
        "\n",
        "def test_rect_find(w=10, h=10, rect=[[10,1000], [10,1000]], npts=100, n_query=10):\n",
        "    \"\"\"\n",
        "    Repeats n_query times, based on npts points.\n",
        "    Points are random in a area with both x and y ranging  from 10 to 1000.\n",
        "\n",
        "    Uses a balanced k-D tree.\n",
        "    Same set of points are used for n_query times.\n",
        "    Each time, find points in a tree of npts points in a rectangle of w wide and h high.\n",
        "    The rectangle does not go out of the range of x and y.\n",
        "\n",
        "    Returns times of using the k-D tree and linear search, respectively.\n",
        "    The time is averaged per query.\n",
        "    \"\"\"\n",
        "    randpoints0 = [rand_point(rect) for i in range(npts)]\n",
        "    randpoints = copy.deepcopy(randpoints0)\n",
        "    kdt = kdtree2(randpoints0)\n",
        "\n",
        "    times = []\n",
        "    for i in range(n_query):\n",
        "        x1 = uniform(rect[0][0], rect[0][1]-w)\n",
        "        y1 = uniform(rect[1][0], rect[1][1]-h)\n",
        "        rect_target = [ [x1, x1+w], [y1, y1+h] ]\n",
        "        t1 = time.time()\n",
        "        found = []\n",
        "        range_query_orthogonal(kdt, rect_target, found)\n",
        "        t2 = time.time()\n",
        "        found2 = rectangular_linear(randpoints, rect_target) # linear search\n",
        "        t3 = time.time()\n",
        "        times.append( (t2-t1, t3-t2))\n",
        "    return sum([t[0] for t in times])/float(n_query), sum([t[1] for t in times])/n_query"
      ],
      "execution_count": null,
      "outputs": []
    },
    {
      "cell_type": "markdown",
      "metadata": {
        "id": "N9YX2fUOeSCm"
      },
      "source": [
        "Here is an example of using it:"
      ]
    },
    {
      "cell_type": "code",
      "metadata": {
        "scrolled": true,
        "colab": {
          "base_uri": "https://localhost:8080/"
        },
        "id": "rQSgsvxNeSCm",
        "outputId": "10d84edd-9275-49cb-a7ba-59fb26d46399"
      },
      "source": [
        "test_rect_find(20, 20, npts=100000)"
      ],
      "execution_count": null,
      "outputs": [
        {
          "output_type": "execute_result",
          "data": {
            "text/plain": [
              "(0.00022327899932861328, 0.034420204162597653)"
            ]
          },
          "metadata": {},
          "execution_count": 14
        }
      ]
    },
    {
      "cell_type": "markdown",
      "metadata": {
        "id": "Hx_fGINpeSCn"
      },
      "source": [
        "We hypothesize that using a k-D tree will help rectangular query, but the increase of the rectangle size will increase the time used to query. We test two things here:\n",
        "\n",
        "1. when will the additional computation caused by the increase of the rectangle exceed the efficiency of using a k-D tree?\n",
        "2. what is the impact of increasing the problem size (total number of points)?\n",
        "\n",
        "We test the average of time used for each query for each configuration. The following code will take some significant time to run. It will be important to let the computer run, with power plugged in, and do not disturb it with other heavy lifting tasks such as watching movies or even gaming. We will be better off by making lunch or doing some workouts while letting the computer to finish."
      ]
    },
    {
      "cell_type": "code",
      "metadata": {
        "colab": {
          "base_uri": "https://localhost:8080/"
        },
        "id": "Zp6kejX5eSCn",
        "outputId": "ba5d0552-9382-4b14-e2e1-2328dd20f69c"
      },
      "source": [
        "results = []\n",
        "for npts in range(100000, 1000001, 100000):\n",
        "    for w in [25, 50, 100, 200, 400, 600, 800]:\n",
        "        x = test_rect_find(w, w, npts=npts)\n",
        "        x = npts, w, x[0], x[1]\n",
        "        results.append(x)\n",
        "\n",
        "for r in results:\n",
        "    print(r)"
      ],
      "execution_count": null,
      "outputs": [
        {
          "output_type": "stream",
          "name": "stdout",
          "text": [
            "(100000, 25, 0.0003405570983886719, 0.035200881958007815)\n",
            "(100000, 50, 0.0008212804794311523, 0.03446352481842041)\n",
            "(100000, 100, 0.002928924560546875, 0.036293411254882814)\n",
            "(100000, 200, 0.01163311004638672, 0.03748335838317871)\n",
            "(100000, 400, 0.04210760593414307, 0.04346864223480225)\n",
            "(100000, 600, 0.09483802318572998, 0.049257445335388186)\n",
            "(100000, 800, 0.16867280006408691, 0.05467293262481689)\n",
            "(200000, 25, 0.0005565881729125977, 0.06623139381408691)\n",
            "(200000, 50, 0.0016018152236938477, 0.07116692066192627)\n",
            "(200000, 100, 0.005743789672851563, 0.07001874446868897)\n",
            "(200000, 200, 0.021563911437988283, 0.07252850532531738)\n",
            "(200000, 400, 0.08541381359100342, 0.08441414833068847)\n",
            "(200000, 600, 0.1916895627975464, 0.09638986587524415)\n",
            "(200000, 800, 0.3385585069656372, 0.10698549747467041)\n",
            "(300000, 25, 0.0007438421249389649, 0.09844057559967041)\n",
            "(300000, 50, 0.0023679018020629885, 0.09486532211303711)\n",
            "(300000, 100, 0.008715510368347168, 0.10496771335601807)\n",
            "(300000, 200, 0.032955598831176755, 0.11441979408264161)\n",
            "(300000, 400, 0.12990431785583495, 0.12453279495239258)\n",
            "(300000, 600, 0.2860853910446167, 0.1398618459701538)\n",
            "(300000, 800, 0.5174308538436889, 0.15988435745239257)\n",
            "(400000, 25, 0.0009553670883178711, 0.13576688766479492)\n",
            "(400000, 50, 0.0032418489456176756, 0.1322598934173584)\n",
            "(400000, 100, 0.011526894569396973, 0.13704323768615723)\n",
            "(400000, 200, 0.044194698333740234, 0.14607853889465333)\n",
            "(400000, 400, 0.17360343933105468, 0.16554784774780273)\n",
            "(400000, 600, 0.38757598400115967, 0.19184041023254395)\n",
            "(400000, 800, 0.6864860773086547, 0.21727914810180665)\n",
            "(500000, 25, 0.0012326955795288086, 0.16228873729705812)\n",
            "(500000, 50, 0.00413825511932373, 0.16911671161651612)\n",
            "(500000, 100, 0.014332723617553712, 0.16900148391723632)\n",
            "(500000, 200, 0.05502562522888184, 0.18560097217559815)\n",
            "(500000, 400, 0.21639387607574462, 0.2089566707611084)\n",
            "(500000, 600, 0.4846062421798706, 0.23481690883636475)\n",
            "(500000, 800, 0.8565223693847657, 0.2654517889022827)\n",
            "(600000, 25, 0.0013785839080810546, 0.2002696990966797)\n",
            "(600000, 50, 0.004673528671264649, 0.19948840141296387)\n",
            "(600000, 100, 0.017553329467773438, 0.21301848888397218)\n",
            "(600000, 200, 0.06656107902526856, 0.216414475440979)\n",
            "(600000, 400, 0.25943799018859864, 0.2535488843917847)\n",
            "(600000, 600, 0.5814418315887451, 0.28294613361358645)\n",
            "(600000, 800, 1.0347366333007812, 0.3216495752334595)\n",
            "(700000, 25, 0.001548433303833008, 0.22858130931854248)\n",
            "(700000, 50, 0.00547947883605957, 0.23370826244354248)\n",
            "(700000, 100, 0.02095334529876709, 0.23460946083068848)\n",
            "(700000, 200, 0.07740058898925781, 0.2574231863021851)\n",
            "(700000, 400, 0.3077333927154541, 0.28710777759552003)\n",
            "(700000, 600, 0.6895402908325196, 0.33165736198425294)\n",
            "(700000, 800, 1.217804193496704, 0.3755007266998291)\n",
            "(800000, 25, 0.0018121957778930663, 0.2636042356491089)\n",
            "(800000, 50, 0.00617368221282959, 0.26979517936706543)\n",
            "(800000, 100, 0.022948312759399413, 0.27623913288116453)\n",
            "(800000, 200, 0.08804571628570557, 0.287245512008667)\n",
            "(800000, 400, 0.35492839813232424, 0.3341665744781494)\n",
            "(800000, 600, 0.7902978658676147, 0.3768876552581787)\n",
            "(800000, 800, 1.4042447805404663, 0.42833192348480226)\n",
            "(900000, 25, 0.0019783735275268554, 0.29433088302612304)\n",
            "(900000, 50, 0.007235121726989746, 0.30701920986175535)\n",
            "(900000, 100, 0.025778794288635255, 0.3160213232040405)\n",
            "(900000, 200, 0.09926683902740478, 0.32715663909912107)\n",
            "(900000, 400, 0.3918956518173218, 0.3770277500152588)\n",
            "(900000, 600, 0.882020115852356, 0.4254038333892822)\n",
            "(900000, 800, 1.5717053413391113, 0.47479298114776614)\n",
            "(1000000, 25, 0.0022838354110717774, 0.3275598526000977)\n",
            "(1000000, 50, 0.0077476978302001955, 0.33244707584381106)\n",
            "(1000000, 100, 0.029084277153015137, 0.34730706214904783)\n",
            "(1000000, 200, 0.1121171236038208, 0.36087651252746583)\n",
            "(1000000, 400, 0.44198873043060305, 0.41275844573974607)\n",
            "(1000000, 600, 0.986131739616394, 0.47921085357666016)\n",
            "(1000000, 800, 1.751505160331726, 0.5389295816421509)\n"
          ]
        }
      ]
    },
    {
      "cell_type": "markdown",
      "metadata": {
        "id": "gTZTHTMBeSCn"
      },
      "source": [
        "Please note there is a reason the above code is used to printout the tedious results. One of the questions for this module asks for a program that can be used to compute the total time of the above experiment based on the above output. This will be the total time used on the computer to produce this tutorial and it will be an interesting point to see how each of our own computer fares with this NUC 10.\n"
      ]
    },
    {
      "cell_type": "markdown",
      "metadata": {
        "id": "2B-rLhm9eSCn"
      },
      "source": [
        "## <font color=\"red\">Question 1</font>\n",
        "\n",
        "The above code does not report the total time. We can probably go back and re-run the code to get the total time, but we will have to wait another round. Luckily, we did print out the time returned by the `test_rect_find` function, which tell us the average time for each query. The printout is formatted in a specific way and we can definitely utilize that to get the total time.\n",
        "\n",
        "The goal here is to compute the total time used in the above experiment. You should not redo the experiment. Instead, use the results printed. For example, the first two lines of the results may look like this:\n",
        "\n",
        "```\n",
        "(100000, 25, 0.00013082027435302735, 0.015203642845153808)\n",
        "(100000, 50, 0.0003963470458984375, 0.015846920013427735)\n",
        "```\n",
        "\n",
        "and we can simply add a comma at the end of every line (except the last) and then put it in a pair of brackets. We then assign it to a variable:\n",
        "\n",
        "```\n",
        "myresults = [\n",
        "(100000, 25, 0.00013082027435302735, 0.015203642845153808),\n",
        "(100000, 50, 0.0003963470458984375, 0.015846920013427735)\n",
        "```\n",
        "\n",
        "This will create a valid Python data structure that allows us to do necessary calculation. Please also note that the time reported here is the average time per query, so it is important to account for the number of runs when computing the total time. You will need to examine the original code to see how the average is calculated."
      ]
    },
    {
      "cell_type": "code",
      "metadata": {
        "colab": {
          "base_uri": "https://localhost:8080/"
        },
        "id": "TE1TvW0DeSCn",
        "outputId": "233a66e6-ed79-4d97-95d8-bcef6c554e88"
      },
      "source": [
        "# TODO\n",
        "#\n",
        "#    Double click on this cell and write your code to answer the above question.\n",
        "#    In the end, the total time should be printed out.\n",
        "myresults = [\n",
        "(100000, 25, 0.0003405570983886719, 0.035200881958007815),\n",
        "(100000, 50, 0.0008212804794311523, 0.03446352481842041),\n",
        "(100000, 100, 0.002928924560546875, 0.036293411254882814),\n",
        "(100000, 200, 0.01163311004638672, 0.03748335838317871),\n",
        "(100000, 400, 0.04210760593414307, 0.04346864223480225),\n",
        "(100000, 600, 0.09483802318572998, 0.049257445335388186),\n",
        "(100000, 800, 0.16867280006408691, 0.05467293262481689),\n",
        "(200000, 25, 0.0005565881729125977, 0.06623139381408691),\n",
        "(200000, 50, 0.0016018152236938477, 0.07116692066192627),\n",
        "(200000, 100, 0.005743789672851563, 0.07001874446868897),\n",
        "(200000, 200, 0.021563911437988283, 0.07252850532531738),\n",
        "(200000, 400, 0.08541381359100342, 0.08441414833068847),\n",
        "(200000, 600, 0.1916895627975464, 0.09638986587524415),\n",
        "(200000, 800, 0.3385585069656372, 0.10698549747467041),\n",
        "(300000, 25, 0.0007438421249389649, 0.09844057559967041),\n",
        "(300000, 50, 0.0023679018020629885, 0.09486532211303711),\n",
        "(300000, 100, 0.008715510368347168, 0.10496771335601807),\n",
        "(300000, 200, 0.032955598831176755, 0.11441979408264161),\n",
        "(300000, 400, 0.12990431785583495, 0.12453279495239258),\n",
        "(300000, 600, 0.2860853910446167, 0.1398618459701538),\n",
        "(300000, 800, 0.5174308538436889, 0.15988435745239257),\n",
        "(400000, 25, 0.0009553670883178711, 0.13576688766479492),\n",
        "(400000, 50, 0.0032418489456176756, 0.1322598934173584),\n",
        "(400000, 100, 0.011526894569396973, 0.13704323768615723),\n",
        "(400000, 200, 0.044194698333740234, 0.14607853889465333),\n",
        "(400000, 400, 0.17360343933105468, 0.16554784774780273),\n",
        "(400000, 600, 0.38757598400115967, 0.19184041023254395),\n",
        "(400000, 800, 0.6864860773086547, 0.21727914810180665),\n",
        "(500000, 25, 0.0012326955795288086, 0.16228873729705812),\n",
        "(500000, 50, 0.00413825511932373, 0.16911671161651612),\n",
        "(500000, 100, 0.014332723617553712, 0.16900148391723632),\n",
        "(500000, 200, 0.05502562522888184, 0.18560097217559815),\n",
        "(500000, 400, 0.21639387607574462, 0.2089566707611084),\n",
        "(500000, 600, 0.4846062421798706, 0.23481690883636475),\n",
        "(500000, 800, 0.8565223693847657, 0.2654517889022827),\n",
        "(600000, 25, 0.0013785839080810546, 0.2002696990966797),\n",
        "(600000, 50, 0.004673528671264649, 0.19948840141296387),\n",
        "(600000, 100, 0.017553329467773438, 0.21301848888397218),\n",
        "(600000, 200, 0.06656107902526856, 0.216414475440979),\n",
        "(600000, 400, 0.25943799018859864, 0.2535488843917847),\n",
        "(600000, 600, 0.5814418315887451, 0.28294613361358645),\n",
        "(600000, 800, 1.0347366333007812, 0.3216495752334595),\n",
        "(700000, 25, 0.001548433303833008, 0.22858130931854248),\n",
        "(700000, 50, 0.00547947883605957, 0.23370826244354248),\n",
        "(700000, 100, 0.02095334529876709, 0.23460946083068848),\n",
        "(700000, 200, 0.07740058898925781, 0.2574231863021851),\n",
        "(700000, 400, 0.3077333927154541, 0.28710777759552003),\n",
        "(700000, 600, 0.6895402908325196, 0.33165736198425294),\n",
        "(700000, 800, 1.217804193496704, 0.3755007266998291),\n",
        "(800000, 25, 0.0018121957778930663, 0.2636042356491089),\n",
        "(800000, 50, 0.00617368221282959, 0.26979517936706543),\n",
        "(800000, 100, 0.022948312759399413, 0.27623913288116453),\n",
        "(800000, 200, 0.08804571628570557, 0.287245512008667),\n",
        "(800000, 400, 0.35492839813232424, 0.3341665744781494),\n",
        "(800000, 600, 0.7902978658676147, 0.3768876552581787),\n",
        "(800000, 800, 1.4042447805404663, 0.42833192348480226),\n",
        "(900000, 25, 0.0019783735275268554, 0.29433088302612304),\n",
        "(900000, 50, 0.007235121726989746, 0.30701920986175535),\n",
        "(900000, 100, 0.025778794288635255, 0.3160213232040405),\n",
        "(900000, 200, 0.09926683902740478, 0.32715663909912107),\n",
        "(900000, 400, 0.3918956518173218, 0.3770277500152588),\n",
        "(900000, 600, 0.882020115852356, 0.4254038333892822),\n",
        "(900000, 800, 1.5717053413391113, 0.47479298114776614),\n",
        "(1000000, 25, 0.0022838354110717774, 0.3275598526000977),\n",
        "(1000000, 50, 0.0077476978302001955, 0.33244707584381106),\n",
        "(1000000, 100, 0.029084277153015137, 0.34730706214904783),\n",
        "(1000000, 200, 0.1121171236038208, 0.36087651252746583),\n",
        "(1000000, 400, 0.44198873043060305, 0.41275844573974607),\n",
        "(1000000, 600, 0.986131739616394, 0.47921085357666016),\n",
        "(1000000, 800, 1.751505160331726, 0.5389295816421509)\n",
        "]\n",
        "total = sum([sum(myresults[i][2:]) for i in range(len(myresults))]*10)\n",
        "\n",
        "print(total)"
      ],
      "execution_count": null,
      "outputs": [
        {
          "output_type": "stream",
          "name": "stdout",
          "text": [
            "335.5957512855534\n"
          ]
        }
      ]
    },
    {
      "cell_type": "markdown",
      "metadata": {
        "id": "RAF5v5MweSCo"
      },
      "source": [
        "Now, at this point, we have a lot of data in `results` to visualize. Here we show the dominating trends in the data using a subset of the results."
      ]
    },
    {
      "cell_type": "code",
      "metadata": {
        "colab": {
          "base_uri": "https://localhost:8080/",
          "height": 295
        },
        "id": "aZ3xIpgUeSCo",
        "outputId": "dc34b0b2-f2a4-43c6-d5cd-fd22ea2af5af"
      },
      "source": [
        "x = [ r[0]/1000 for r in results if r[1]==25]\n",
        "t100 = [ r[2] for r in results if r[1]==100]\n",
        "t200 = [ r[2] for r in results if r[1]==200]\n",
        "t800 = [ r[2] for r in results if r[1]==800]\n",
        "tl100 = [ r[3] for r in results if r[1]==100]\n",
        "tl200 = [ r[3] for r in results if r[1]==200]\n",
        "tl800 = [ r[3] for r in results if r[1]==800]\n",
        "\n",
        "plt.plot(x, t800, color='k', label='800 k-D tree')\n",
        "plt.plot(x, tl800, color='r', label='800 Linear')\n",
        "plt.plot(x, tl200, color='g', label='200 Linear')\n",
        "plt.plot(x, tl100, color='b', label='100 Linear')\n",
        "plt.plot(x, t200, color='y', label='200 k-D tree')\n",
        "plt.plot(x, t100, color='brown', label='100 k-D tree')\n",
        "\n",
        "plt.legend(loc='upper left')\n",
        "plt.xlabel('Number of points (x1000)')\n",
        "plt.ylabel('Seconds')\n",
        "plt.title('Search time')\n",
        "plt.show()"
      ],
      "execution_count": null,
      "outputs": [
        {
          "output_type": "display_data",
          "data": {
            "image/png": "[encoded data removed]",
            "text/plain": [
              "<Figure size 432x288 with 1 Axes>"
            ]
          },
          "metadata": {
            "needs_background": "light"
          }
        }
      ]
    },
    {
      "cell_type": "markdown",
      "metadata": {
        "id": "ZT7nyjTWeSCo"
      },
      "source": [
        "In the above figure, the numbers in the legend refer to the size of the rectangle. We always use a squire in this test and the overall area is a 990x990 box. It appears that a rectangle of 800x800 takes most of the entire area and therefore takes a lot of time to get the points, more than linear search. However, for other rectangle sizes, the use of k-D tree seems to be beneficial.\n",
        "\n",
        "We now examine the result from another perspective: how the size of the rectangle affects performance? We first pull out the results for the data of 1,000,000 points."
      ]
    },
    {
      "cell_type": "code",
      "metadata": {
        "colab": {
          "base_uri": "https://localhost:8080/",
          "height": 279
        },
        "id": "KS7Yf7rmeSCo",
        "outputId": "003175cc-26f1-4d60-829e-d5249e1dd407"
      },
      "source": [
        "xs = []\n",
        "ttree = []\n",
        "tlinear = []\n",
        "for r in results:\n",
        "    if r[0]==1000000:\n",
        "        xs.append(r[1])\n",
        "        ttree.append(r[2])\n",
        "        tlinear.append(r[3])\n",
        "\n",
        "plt.plot(xs, ttree, color='k', label='k-D tree')\n",
        "plt.plot(xs, tlinear, color='r', label='Linear')\n",
        "\n",
        "plt.legend(loc='upper left')\n",
        "plt.xlabel('Width of rectangle')\n",
        "plt.ylabel('Search time (Seconds)')\n",
        "plt.show()"
      ],
      "execution_count": null,
      "outputs": [
        {
          "output_type": "display_data",
          "data": {
            "image/png": "[encoded data removed]",
            "text/plain": [
              "<Figure size 432x288 with 1 Axes>"
            ]
          },
          "metadata": {
            "needs_background": "light"
          }
        }
      ]
    },
    {
      "cell_type": "markdown",
      "metadata": {
        "id": "bP_IWUq-eSCo"
      },
      "source": [
        "The above figure is interesting: the use of k-D tree will become more computationally expensive when the size of rectangle is greater than about 500x500. How about other settings? Below, we try to pull all the results and re-organize them into a different structure. More specifically, we use a Python dictionary to organize. We use the data size (number of points) as the key to build the dictionary. For each key, we store three lists: the lists of rectangle sizes, time used by the k-D tree, and by the linear search."
      ]
    },
    {
      "cell_type": "code",
      "metadata": {
        "id": "3idC09qteSCp"
      },
      "source": [
        "new_data = {}\n",
        "sizes = range(100000, 1000001, 100000)\n",
        "for w in sizes:\n",
        "    new_data[w] = [[], [], []]\n",
        "\n",
        "for r in results:\n",
        "    w = r[0]\n",
        "    new_data[w][0].append(r[1]/100)\n",
        "    new_data[w][1].append(r[2])\n",
        "    new_data[w][2].append(r[3])"
      ],
      "execution_count": null,
      "outputs": []
    },
    {
      "cell_type": "markdown",
      "metadata": {
        "id": "R0raz2OjeSCp"
      },
      "source": [
        "With the newly organized results (as saved in new_data), we can now put all the lines together in one figure. This is not necessarily the best way to draw things, but a quick way."
      ]
    },
    {
      "cell_type": "code",
      "metadata": {
        "colab": {
          "base_uri": "https://localhost:8080/",
          "height": 279
        },
        "id": "sJvcxIUBeSCp",
        "outputId": "306d4428-3c77-4914-e409-090ed4f2406d"
      },
      "source": [
        "for w in sizes:\n",
        "    plt.plot(new_data[w][0], new_data[w][1], color='k', label='k-D tree')\n",
        "    plt.plot(new_data[w][0], new_data[w][2], color='r', label='Linear')\n",
        "\n",
        "#plt.legend(loc='upper left')\n",
        "plt.xlabel('Width of rectangle (x100)')\n",
        "plt.ylabel('Search time (Seconds)')\n",
        "plt.show()"
      ],
      "execution_count": null,
      "outputs": [
        {
          "output_type": "display_data",
          "data": {
            "image/png": "[encoded data removed]",
            "text/plain": [
              "<Figure size 432x288 with 1 Axes>"
            ]
          },
          "metadata": {
            "needs_background": "light"
          }
        }
      ]
    },
    {
      "cell_type": "markdown",
      "metadata": {
        "id": "Qdvkizg1eSCp"
      },
      "source": [
        "The above figure is quick and fun, but not very much useful in reading it. The following illustrate is a remake using the same data and is stunningly effective in showing the intrinsic trends!"
      ]
    },
    {
      "cell_type": "code",
      "metadata": {
        "scrolled": true,
        "colab": {
          "base_uri": "https://localhost:8080/",
          "height": 297
        },
        "id": "vX6NrQHTeSCp",
        "outputId": "192bcd63-c214-453a-8f3b-c55d2e806789"
      },
      "source": [
        "numsubplots = len(sizes)\n",
        "fig, axs = plt.subplots(1, numsubplots, sharey=True)\n",
        "panel_label_y = 1.1 * max(new_data[sizes[-1]][1]) # get Y position of panel labels\n",
        "\n",
        "i = 0\n",
        "for w in sizes:\n",
        "    axs[i].plot(new_data[w][0], new_data[w][1], color='k', label='k-D tree')\n",
        "    axs[i].plot(new_data[w][0], new_data[w][2], color='r', label='Linear')\n",
        "    #plt.xticks([sizes[j]/100 for j in range(len(sizes)) if j%3==0])\n",
        "    axs[i].xaxis.set_ticks([2, 4, 6, 8])\n",
        "    axs[i].text(0.5, panel_label_y, str(w//1000)+'K')\n",
        "    i += 1\n",
        "\n",
        "axs[5].set_xlabel('Width of rectangle (x100)')\n",
        "axs[0].set_ylabel('Search time (Seconds)')\n",
        "plt.legend(loc='right', bbox_to_anchor=(4.5, 0.5))\n",
        "plt.show()"
      ],
      "execution_count": null,
      "outputs": [
        {
          "output_type": "display_data",
          "data": {
            "image/png": "[encoded data removed]",
            "text/plain": [
              "<Figure size 432x288 with 10 Axes>"
            ]
          },
          "metadata": {
            "needs_background": "light"
          }
        }
      ]
    },
    {
      "cell_type": "markdown",
      "metadata": {
        "id": "KbI2AYsGeSCq"
      },
      "source": [
        "## 3. Performance of nearest neighbor search\n",
        "\n",
        "Now we test the performance of nearest neighbor search using three methods: k-D tree, point quadtree, and linear search (`nn_linear`). Here are some necessary functions for the testing."
      ]
    },
    {
      "cell_type": "code",
      "metadata": {
        "id": "E6QHmIkveSCq"
      },
      "source": [
        "def nn_linear(p, points, n_neighbor=10):\n",
        "    '''Linear search, or exhaustive search, or brute-force search'''\n",
        "    dist = [p.distance(z) for z in points]\n",
        "    Z1 = [(points[i], dist[i]) for i in range(len(dist))]\n",
        "    Z1.sort(key=lambda Z1: Z1[1])\n",
        "    Z1 = Z1[:n_neighbor]\n",
        "    return Z1\n",
        "\n",
        "def test_nn_find(rect=[[10,1000], [10,1000]], n_neighbor=10, npts=100, n_query=10):\n",
        "    randpoints0 = [rand_point(rect) for i in range(npts)]\n",
        "    randpoints = copy.deepcopy(randpoints0)\n",
        "    pqt = pointquadtree(randpoints0)\n",
        "    kdt = kdtree2(randpoints0)\n",
        "\n",
        "    times = []\n",
        "    for i in range(n_query):\n",
        "        p = rand_point(rect)\n",
        "        t1 = time.time()\n",
        "        nnp1 = kdtree_nearest_neighbor_query(kdt, p, n_neighbor)\n",
        "        t2 = time.time()\n",
        "        nnp2 = pq_nearest_neighbor_query(pqt, p, n_neighbor)\n",
        "        t3 = time.time()\n",
        "        nnp3 = nn_linear(p, randpoints, n_neighbor)\n",
        "        t4 = time.time()\n",
        "        times.append((t2-t1, t3-t2, t4-t3))\n",
        "    return sum([t[0] for t in times])/n_query, sum([t[1] for t in times])/n_query, sum([t[2] for t in times])/n_query\n"
      ],
      "execution_count": null,
      "outputs": []
    },
    {
      "cell_type": "code",
      "metadata": {
        "colab": {
          "base_uri": "https://localhost:8080/"
        },
        "id": "fOlUxiGyeSCq",
        "outputId": "5ef94868-c247-4fdf-f4a5-d50265ae8e87"
      },
      "source": [
        "test_nn_find(n_neighbor=25, npts=10000)"
      ],
      "execution_count": null,
      "outputs": [
        {
          "output_type": "execute_result",
          "data": {
            "text/plain": [
              "(0.000521993637084961, 0.00264894962310791, 0.010713863372802734)"
            ]
          },
          "metadata": {},
          "execution_count": 23
        }
      ]
    },
    {
      "cell_type": "markdown",
      "metadata": {
        "id": "T-_S7qaBeSCq"
      },
      "source": [
        "Now we test a few configurations. We search for up to 800 nearest points (note this is not the same as 800 in the previous experiment where 800 is the width of the rectangle). In our tests below, 800 points is really a small portion of all points. More on this later."
      ]
    },
    {
      "cell_type": "code",
      "metadata": {
        "colab": {
          "base_uri": "https://localhost:8080/"
        },
        "id": "xSMlWBY3eSCr",
        "outputId": "1192323a-ca71-435a-8e59-879a6ec567a4"
      },
      "source": [
        "results_nn = []\n",
        "for npts in range(200000, 1000001, 200000):\n",
        "    for n in [25, 50, 100, 200, 400, 800]:\n",
        "        x = test_nn_find(n_neighbor=n, npts=npts)\n",
        "        x = npts, n, x[0], x[1], x[2]\n",
        "        results_nn.append(x)\n",
        "        print(x)"
      ],
      "execution_count": null,
      "outputs": [
        {
          "output_type": "stream",
          "name": "stdout",
          "text": [
            "(200000, 25, 0.0005255937576293945, 0.002486562728881836, 0.5307612895965577)\n",
            "(200000, 50, 0.0011348485946655273, 0.0038878679275512694, 0.4883486986160278)\n",
            "(200000, 100, 0.002982020378112793, 0.01742854118347168, 0.48369503021240234)\n",
            "(200000, 200, 0.008382105827331543, 0.04667503833770752, 0.4966383695602417)\n",
            "(200000, 400, 0.032259202003479, 0.16183140277862548, 0.49212400913238524)\n",
            "(200000, 800, 0.1000565767288208, 0.5261512517929077, 0.4929659366607666)\n",
            "(400000, 25, 0.0005854129791259766, 0.003473830223083496, 1.0723907470703125)\n",
            "(400000, 50, 0.0011899232864379882, 0.006532597541809082, 1.070043158531189)\n",
            "(400000, 100, 0.0030403375625610352, 0.016001415252685548, 1.0803653717041015)\n",
            "(400000, 200, 0.009621024131774902, 0.04577512741088867, 1.0741769075393677)\n",
            "(400000, 400, 0.02603459358215332, 0.324254584312439, 1.076483392715454)\n",
            "(400000, 800, 0.11160397529602051, 0.6072548627853394, 1.0873864412307739)\n",
            "(600000, 25, 0.0005038738250732422, 0.0037279844284057615, 1.650157380104065)\n",
            "(600000, 50, 0.001396036148071289, 0.008975791931152343, 1.6322887659072876)\n",
            "(600000, 100, 0.0034346580505371094, 0.019482851028442383, 1.6429986238479615)\n",
            "(600000, 200, 0.009830284118652343, 0.06262187957763672, 1.6357999801635743)\n",
            "(600000, 400, 0.028026723861694337, 0.12066335678100586, 1.6512192964553833)\n",
            "(600000, 800, 0.12383055686950684, 0.5701874494552612, 1.650000238418579)\n",
            "(800000, 25, 0.0006103754043579101, 0.0044423103332519535, 2.1985310316085815)\n",
            "(800000, 50, 0.0012520551681518555, 0.007885146141052245, 2.221632719039917)\n",
            "(800000, 100, 0.003359365463256836, 0.02758934497833252, 2.2044979333877563)\n",
            "(800000, 200, 0.009665465354919434, 0.07077293395996094, 2.2198917627334596)\n",
            "(800000, 400, 0.03235652446746826, 0.20539186000823975, 2.215856432914734)\n",
            "(800000, 800, 0.10581867694854737, 0.6574530601501465, 2.2197519302368165)\n",
            "(1000000, 25, 0.0005531072616577149, 0.004350614547729492, 2.7146608591079713)\n",
            "(1000000, 50, 0.001214146614074707, 0.0105057954788208, 2.74548454284668)\n",
            "(1000000, 100, 0.0032984018325805664, 0.03371317386627197, 2.7234758853912355)\n",
            "(1000000, 200, 0.009742665290832519, 0.06491360664367676, 2.740732526779175)\n",
            "(1000000, 400, 0.03191730976104736, 0.26625475883483884, 2.7413371086120604)\n",
            "(1000000, 800, 0.11340861320495606, 0.9995577812194825, 2.750900626182556)\n"
          ]
        }
      ]
    },
    {
      "cell_type": "markdown",
      "metadata": {
        "id": "3zsOlFoyeSCr"
      },
      "source": [
        "## <font color=\"red\">Question 2</font>\n",
        "\n",
        "Plot a figure that can show the time complexity trend of nearest neighbor search using a tree  (either a k-D tree or a point quadtree will be fine) from the above experiment. Again, we don't need to re-run the code. Instead, use the results printed above , where the first two lines of the printout look like this:\n",
        "\n",
        "\n",
        "```\n",
        "(200000, 25, 0.0004232645034790039, 0.0017875194549560546, 0.3703118324279785),\n",
        "(200000, 50, 0.0008641958236694336, 0.0032688140869140624, 0.37016251087188723)\n",
        "```\n",
        "\n",
        "We did not discuss nearest neighbor search the class in this semester, but the algorithms are similar to those of orthogonal and circular searches. Please refer to Sections 5.1.3 and 6.2 of *GIS Algorithms* for more detailed discussions about nearest neighbor search.\n"
      ]
    },
    {
      "cell_type": "code",
      "metadata": {
        "colab": {
          "base_uri": "https://localhost:8080/",
          "height": 231
        },
        "id": "ZGtsoqXgeSCr",
        "outputId": "36bafc9e-3a4d-4177-f379-5f6e6c733c38"
      },
      "source": [
        "# TODO\n",
        "#\n",
        "#    Double click on this cell and write your code to answer the above question.\n",
        "\n",
        "\n",
        "x = [ r[0]/1000 for r in results_nn if r[1]==25]\n",
        "t100 = [ r[2] for r in results_nn if r[1]==100]\n",
        "t200 = [ r[2] for r in results_nn if r[1]==200]\n",
        "t800 = [ r[2] for r in results_nn if r[1]==800]\n",
        "tl100 = [ r[3] for r in results_nn if r[1]==100]\n",
        "tl200 = [ r[3] for r in results_nn if r[1]==200]\n",
        "tl800 = [ r[3] for r in results_nn if r[1]==800]\n",
        "\n",
        "plt.plot(x, t800, color='k', label='800 k-D tree')\n",
        "plt.plot(x, tl800, color='r', label='800 Linear')\n",
        "plt.plot(x, tl200, color='g', label='200 Linear')\n",
        "plt.plot(x, tl100, color='b', label='100 Linear')\n",
        "plt.plot(x, t200, color='y', label='200 k-D tree')\n",
        "plt.plot(x, t100, color='brown', label='100 k-D tree')\n",
        "\n",
        "plt.legend(loc='upper left')\n",
        "plt.xlabel('Number of points (x1000)')\n",
        "plt.ylabel('Seconds')\n",
        "plt.title('Search time')\n",
        "plt.show()"
      ],
      "execution_count": null,
      "outputs": [
        {
          "output_type": "error",
          "ename": "NameError",
          "evalue": "ignored",
          "traceback": [
            "\u001b[0;31m---------------------------------------------------------------------------\u001b[0m",
            "\u001b[0;31mNameError\u001b[0m                                 Traceback (most recent call last)",
            "\u001b[0;32m<ipython-input-1-a60c1740d871>\u001b[0m in \u001b[0;36m<module>\u001b[0;34m()\u001b[0m\n\u001b[1;32m      4\u001b[0m \u001b[0;34m\u001b[0m\u001b[0m\n\u001b[1;32m      5\u001b[0m \u001b[0;34m\u001b[0m\u001b[0m\n\u001b[0;32m----> 6\u001b[0;31m \u001b[0mx\u001b[0m \u001b[0;34m=\u001b[0m \u001b[0;34m[\u001b[0m \u001b[0mr\u001b[0m\u001b[0;34m[\u001b[0m\u001b[0;36m0\u001b[0m\u001b[0;34m]\u001b[0m\u001b[0;34m/\u001b[0m\u001b[0;36m1000\u001b[0m \u001b[0;32mfor\u001b[0m \u001b[0mr\u001b[0m \u001b[0;32min\u001b[0m \u001b[0mresults_nn\u001b[0m \u001b[0;32mif\u001b[0m \u001b[0mr\u001b[0m\u001b[0;34m[\u001b[0m\u001b[0;36m1\u001b[0m\u001b[0;34m]\u001b[0m\u001b[0;34m==\u001b[0m\u001b[0;36m25\u001b[0m\u001b[0;34m]\u001b[0m\u001b[0;34m\u001b[0m\u001b[0;34m\u001b[0m\u001b[0m\n\u001b[0m\u001b[1;32m      7\u001b[0m \u001b[0mt100\u001b[0m \u001b[0;34m=\u001b[0m \u001b[0;34m[\u001b[0m \u001b[0mr\u001b[0m\u001b[0;34m[\u001b[0m\u001b[0;36m2\u001b[0m\u001b[0;34m]\u001b[0m \u001b[0;32mfor\u001b[0m \u001b[0mr\u001b[0m \u001b[0;32min\u001b[0m \u001b[0mresults_nn\u001b[0m \u001b[0;32mif\u001b[0m \u001b[0mr\u001b[0m\u001b[0;34m[\u001b[0m\u001b[0;36m1\u001b[0m\u001b[0;34m]\u001b[0m\u001b[0;34m==\u001b[0m\u001b[0;36m100\u001b[0m\u001b[0;34m]\u001b[0m\u001b[0;34m\u001b[0m\u001b[0;34m\u001b[0m\u001b[0m\n\u001b[1;32m      8\u001b[0m \u001b[0mt200\u001b[0m \u001b[0;34m=\u001b[0m \u001b[0;34m[\u001b[0m \u001b[0mr\u001b[0m\u001b[0;34m[\u001b[0m\u001b[0;36m2\u001b[0m\u001b[0;34m]\u001b[0m \u001b[0;32mfor\u001b[0m \u001b[0mr\u001b[0m \u001b[0;32min\u001b[0m \u001b[0mresults_nn\u001b[0m \u001b[0;32mif\u001b[0m \u001b[0mr\u001b[0m\u001b[0;34m[\u001b[0m\u001b[0;36m1\u001b[0m\u001b[0;34m]\u001b[0m\u001b[0;34m==\u001b[0m\u001b[0;36m200\u001b[0m\u001b[0;34m]\u001b[0m\u001b[0;34m\u001b[0m\u001b[0;34m\u001b[0m\u001b[0m\n",
            "\u001b[0;31mNameError\u001b[0m: name 'results_nn' is not defined"
          ]
        }
      ]
    },
    {
      "cell_type": "markdown",
      "metadata": {
        "id": "sLuxzYEQeSCr"
      },
      "source": [
        "Generally, finding 800 nearest neighbors of a point on a tree of 900,000 points is a piece of cake! However, before we can be more conclusive, there are more tests to do: what is the downside of using a k-D tree? We know that constructing such a tree takes time, and from the previous experiments, we also know that at some point the use of a k-D tree for searching may be excessive because we will have to traverse the tree back and forth too many times that will be more than just using a linear search. Does this happen to the nearest neighbor search using k-D tree too? Here are some quick tests and these should give us some good ideas about the last point!"
      ]
    },
    {
      "cell_type": "code",
      "metadata": {
        "colab": {
          "base_uri": "https://localhost:8080/"
        },
        "id": "rih4M3yqeSCr",
        "outputId": "bb273a06-0a8c-45b8-ddb7-f019b6900136"
      },
      "source": [
        "print(test_nn_find(n_neighbor=10, npts=100000))\n",
        "print(test_nn_find(n_neighbor=25, npts=100000))\n",
        "print(test_nn_find(n_neighbor=10000, npts=100000))"
      ],
      "execution_count": null,
      "outputs": [
        {
          "output_type": "stream",
          "name": "stdout",
          "text": [
            "(0.00027561187744140625, 0.0008544206619262695, 0.19142725467681884)\n",
            "(0.0005954027175903321, 0.0031795263290405273, 0.23459722995758056)\n",
            "(15.4989483833313, 49.307459235191345, 0.2525263071060181)\n"
          ]
        }
      ]
    },
    {
      "cell_type": "markdown",
      "metadata": {
        "id": "YsodOTaIeSCr"
      },
      "source": [
        "## <font color=\"red\">Question 3</font>\n",
        "\n",
        "In the output of the above code we should see something like this in each line:\n",
        "\n",
        "```\n",
        "(11.019792795181274, 29.53496918678284, 0.2186837911605835)\n",
        "```\n",
        "\n",
        "What does each of these three numbers mean? What can we learn from this result?"
      ]
    },
    {
      "cell_type": "code",
      "metadata": {
        "id": "3NDk_nXveSCs"
      },
      "source": [
        "# TODO\n",
        "#\n",
        "#    Double click on this cell and answer the above question here.\n",
        "\n",
        "\n"
      ],
      "execution_count": null,
      "outputs": []
    },
    {
      "cell_type": "markdown",
      "metadata": {
        "id": "jN5z2Y1MeSCs"
      },
      "source": [
        "We can do more tests on a smaller tree:"
      ]
    },
    {
      "cell_type": "code",
      "metadata": {
        "scrolled": true,
        "colab": {
          "base_uri": "https://localhost:8080/"
        },
        "id": "wG3kOrLAeSCs",
        "outputId": "d5877a9c-073f-4ff1-89af-598cf121f506"
      },
      "source": [
        "print(test_nn_find(n_neighbor=10, npts=250))\n",
        "print(test_nn_find(n_neighbor=50, npts=250))\n",
        "print(test_nn_find(n_neighbor=100, npts=250))\n",
        "print(test_nn_find(n_neighbor=200, npts=250))"
      ],
      "execution_count": null,
      "outputs": [
        {
          "output_type": "stream",
          "name": "stdout",
          "text": [
            "(0.00011029243469238282, 0.0002636432647705078, 0.00021393299102783202)\n",
            "(0.0005986928939819336, 0.0012166976928710937, 0.00028355121612548827)\n",
            "(0.0020723342895507812, 0.0035135030746459963, 0.00028672218322753904)\n",
            "(0.003235149383544922, 0.003307962417602539, 0.00022432804107666015)\n"
          ]
        }
      ]
    }
  ]
}