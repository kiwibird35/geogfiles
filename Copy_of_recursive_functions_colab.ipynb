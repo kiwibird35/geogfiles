{
  "nbformat": 4,
  "nbformat_minor": 0,
  "metadata": {
    "kernelspec": {
      "display_name": "Python 3",
      "language": "python",
      "name": "python3"
    },
    "language_info": {
      "codemirror_mode": {
        "name": "ipython",
        "version": 3
      },
      "file_extension": ".py",
      "mimetype": "text/x-python",
      "name": "python",
      "nbconvert_exporter": "python",
      "pygments_lexer": "ipython3",
      "version": "3.8.5"
    },
    "colab": {
      "provenance": [],
      "include_colab_link": true
    }
  },
  "cells": [
    {
      "cell_type": "markdown",
      "metadata": {
        "id": "view-in-github",
        "colab_type": "text"
      },
      "source": [
        "<a href=\"https://colab.research.google.com/github/kiwibird35/geogfiles/blob/main/Copy_of_recursive_functions_colab.ipynb\" target=\"_parent\"><img src=\"https://colab.research.google.com/assets/colab-badge.svg\" alt=\"Open In Colab\"/></a>"
      ]
    },
    {
      "cell_type": "markdown",
      "metadata": {
        "collapsed": true,
        "id": "d8XHgvaY2POC"
      },
      "source": [
        "<a href=\"https://colab.research.google.com/github/gisalgs/notebooks/blob/main/recursive-functions-colab.ipynb\">\n",
        "  <img src=\"https://colab.research.google.com/assets/colab-badge.svg\" alt=\"Open In Colab\"/>\n",
        "</a>\n",
        "\n",
        "# Recursions: Functions That Call Themselves\n",
        "\n",
        "> \"I wish I hadn't cried so much!\" said Alice, as she swam about, trying to find her way out. \"I shall be punished for it now, I suppose, by being drowned in my own tears! That will be a queer thing, to be sure! However, everything is queer to-day.\"\n",
        ">\n",
        "><cite>Lewis Carroll, Alice's Adventures in Wonderland</cite>\n",
        "\n",
        "A function can call itself. When a function is written in this way, we call it a **recursive** function. To understand how it works for recursive functions, we first examine a void function. As we know, this type of functions do not return anything (except for a `None`). We will use the `print` statement to illustrate the secrets of recursive functions. We start with the countdown function from the *Think Python* book.\n",
        "\n",
        "[This video](https://mediasite.osu.edu/Mediasite/Play/214375ce933e48bfbe44130ee9876ebf1d) also explains how this function works."
      ]
    },
    {
      "cell_type": "code",
      "metadata": {
        "id": "oSPh12OD2POG",
        "colab": {
          "base_uri": "https://localhost:8080/"
        },
        "outputId": "79115765-1a08-41e9-c91a-e02fe8da07cb"
      },
      "source": [
        "def countdown(n):\n",
        "    if n <= 0:         # base case\n",
        "        print('DONE!')\n",
        "    else:\n",
        "        print(n)\n",
        "        countdown(n-1)\n",
        "\n",
        "countdown(3)"
      ],
      "execution_count": null,
      "outputs": [
        {
          "output_type": "stream",
          "name": "stdout",
          "text": [
            "3\n",
            "2\n",
            "1\n",
            "DONE!\n"
          ]
        }
      ]
    },
    {
      "cell_type": "markdown",
      "metadata": {
        "id": "vze9CfIT2POI"
      },
      "source": [
        "When the first time the function `countdown` is called, `n` is 3 and therefore it only prints the value of `n` and then calls itself. But this time it calls itself with an `n` value that is one less than the previous value. So we are essentially calling `countdown(2)`. The new call will again print the value of `n` because it does not satisfy the  `if` statement. Now the call becomes `countdown(1)`, which still triggers the printout of the `n` value and launches the last call of function `countdown` with an argument of 0. So finally we get to a condition that satisfies the `if` statement, which will go to run the line to print out the word `DONE`. This will be the end of all the calls because that the printout of DONE is the last thing the code does. For this reason, the condition in the `if` statement is also called a **base case** -- it is the bottom of the recursion and from there the function calls will trace back.\n",
        "\n",
        "When we first run `countdown(3)`, we will print a 3 and then call `countdown` again with an argument of 2. However, at this point, the call of `countdown(3)` has not effectively ended yet, because we have not reached the end of the function. The end of the function will be reached **after** the call of `countdown(2)` ends, which of course will not end until the call of `countdown(1)` ends, and so on. At the end of each call of `countdown`, we don't do anything except for returning a value of `None`.\n",
        "\n",
        "We now use the following diagram to capture the whole process. Here we use the vertical bar (|) to represent some unfinished business that must be taken care of when the chain of calls is done. A plus sign (+) is used to denote the actual execution of a statement. (Note: the skeleton of this diagram was produced using a trace function at [here](http://anandology.com/python-practice-book/functional-programming.html).)\n",
        "\n",
        "```\n",
        "Function calls                         Output (print)\n",
        "\n",
        "+-- countdown(3)\n",
        "|  +-- print(3)                         3\n",
        "|  +-- countdown(2)\n",
        "|  |  +-- print(2)                      2\n",
        "|  |  +-- countdown(1)\n",
        "|  |  |  +-- print(1)                   1\n",
        "|  |  |  +-- countdown(0)\n",
        "|  |  |  |  +-- print('DONE!')          DONE!\n",
        "|  |  |  |  +-- return None\n",
        "|  |  |  +-- return None\n",
        "|  |  +-- return None\n",
        "|  +-- return None\n",
        "```\n",
        "\n",
        "We can make a few changes to make the countdown process faster. Let's change the last line in the function to the following two and see what happens.\n",
        "\n",
        "```\n",
        "countdown(n-5)\n",
        "countdown(n//10)\n",
        "```\n",
        "\n",
        "For the sake of comparison, we can achieve the same thing counting down effect using a loop."
      ]
    },
    {
      "cell_type": "code",
      "metadata": {
        "id": "WCcVd3yo2POJ",
        "colab": {
          "base_uri": "https://localhost:8080/"
        },
        "outputId": "9dd84fa8-bb11-44b8-cf8e-471205e9d97b"
      },
      "source": [
        "# TODO\n",
        "#    Replace the pass statement with a loop so this function will\n",
        "#    output as same as the previous countdown function\n",
        "#\n",
        "\n",
        "def countdown_loop(n):\n",
        "    while n > 0:\n",
        "      print(n)\n",
        "      n = n-1\n",
        "    print('DONE!')\n",
        "\n",
        "\n",
        "countdown_loop(3)"
      ],
      "execution_count": null,
      "outputs": [
        {
          "output_type": "stream",
          "name": "stdout",
          "text": [
            "3\n",
            "2\n",
            "1\n",
            "DONE!\n"
          ]
        }
      ]
    },
    {
      "cell_type": "markdown",
      "metadata": {
        "id": "nWwnxI6O2POK"
      },
      "source": [
        "## How (and why) recursive functions work?\n",
        "\n",
        "Through the above discussion we should have established the fundamental understanding of how recursive functions (and all functions) work. For a recursive function call, [it is important to know that](https://medium.freecodecamp.org/recursion-visually-explained-bec8cca14d9b) \"the function in which the recursive function call was called in must wait for the recursive function call to finish before it continues its process.\" Note the keyword here is **finish**: each function call must be finished before the next steps can proceed.\n",
        "\n",
        "To further understand this concept, let's slightly modify the countdown code by adding one more statement after the self calling:"
      ]
    },
    {
      "cell_type": "code",
      "metadata": {
        "id": "saOzEzB32POL",
        "colab": {
          "base_uri": "https://localhost:8080/"
        },
        "outputId": "810c81ac-8b05-4537-d08b-3b8f888edf49"
      },
      "source": [
        "def countdown2(n):\n",
        "    if n <= 0:\n",
        "        print('DONE!')\n",
        "    else:\n",
        "        print(n)\n",
        "        countdown2(n-1)\n",
        "        print(n)\n",
        "\n",
        "countdown2(3)"
      ],
      "execution_count": null,
      "outputs": [
        {
          "output_type": "stream",
          "name": "stdout",
          "text": [
            "3\n",
            "2\n",
            "1\n",
            "DONE!\n",
            "1\n",
            "2\n",
            "3\n"
          ]
        }
      ]
    },
    {
      "cell_type": "markdown",
      "metadata": {
        "id": "zSR7aa9v2POL"
      },
      "source": [
        "When we first call the function in `countdown2(3)`, we print out `3`, call the function with an input of 2, and then print out another 3. However, the second print must wait until `countdown2(2)` finishes. So in between the two print of 3, there is a lot to happen: we call `countdown2(2)`, which prints 2, call `countdown2(1)`, and then print 2, where the second print of 2 needs to wait until `countdown2(1)` to finish, and so on. The following diagram should explain the process:\n",
        "\n",
        "```\n",
        "Function calls                          Output (print)\n",
        "\n",
        "+-- countdown2(3)\n",
        "|  +-- print(3)                         3\n",
        "|  +-- countdown2(2)\n",
        "|  |  +-- print(2)                      2\n",
        "|  |  +-- countdown2(1)\n",
        "|  |  |  +-- print(1)                   1\n",
        "|  |  |  +-- countdown2(0)\n",
        "|  |  |  |  +-- print 'DONE!'           DONE!\n",
        "|  |  |  |  +-- return None\n",
        "|  |  |  +-- print(1)                   1\n",
        "|  |  |  +-- return None\n",
        "|  |  +-- print(2)                      2\n",
        "|  |  +-- return None\n",
        "|  +-- print(3)                         3\n",
        "|  +-- return None\n",
        "```"
      ]
    },
    {
      "cell_type": "markdown",
      "metadata": {
        "id": "UWhnUFv-2POM"
      },
      "source": [
        "We can again use loops to achieve the same effect as the `countdown2` function."
      ]
    },
    {
      "cell_type": "code",
      "metadata": {
        "id": "e0rr7ADB2PON",
        "colab": {
          "base_uri": "https://localhost:8080/"
        },
        "outputId": "196c8723-df1c-4f13-fce5-852257d2aae1"
      },
      "source": [
        "# TODO\n",
        "#   Replace the pass statement below to complete the function\n",
        "#   so it prints out as same as countdown2\n",
        "\n",
        "def countdown2_loop(n):\n",
        "    for i in range(n,0,-1):\n",
        "        print(i)\n",
        "\n",
        "    print('Done!')\n",
        "\n",
        "    for i in range(1,n+1):\n",
        "        print(i)\n",
        "\n",
        "countdown2_loop(3)"
      ],
      "execution_count": null,
      "outputs": [
        {
          "output_type": "stream",
          "name": "stdout",
          "text": [
            "3\n",
            "2\n",
            "1\n",
            "Done!\n",
            "1\n",
            "2\n",
            "3\n"
          ]
        }
      ]
    },
    {
      "cell_type": "markdown",
      "metadata": {
        "id": "5zTQ-R9z2POO"
      },
      "source": [
        "## Infinite recursions\n",
        "\n",
        "A recursive function will keep calling itself until some condition is met. In our countdown examples above, the function will finally stop calling itself when the argument reaches 0 and we have a mechanism to make sure the argument decreases every time a self-calling is made. What happens if we somehow don't reach that condition? This will form an infinite recursive function and it is not a good thing to have in any programming. An easy way to try this out is just make an extremely simple recursive function like this:\n",
        "\n",
        "```python\n",
        "def x():\n",
        "    x()\n",
        "```\n",
        "\n",
        "Running this will yield a this error message\n",
        "\n",
        "<pre>RuntimeError: maximum recursion depth exceeded</pre>\n",
        "\n",
        "But fortunately in Python, it doesn't really goes on forever. Python has a maximum number for functions to call themselves. This number is by default set to 1000 (depending on the system), but we can set it to a different number using the [`sys.setrecursionlimit`](https://docs.python.org/3/library/sys.html#sys.setrecursionlimit) function."
      ]
    },
    {
      "cell_type": "code",
      "metadata": {
        "id": "6QtA9Ka22POO",
        "colab": {
          "base_uri": "https://localhost:8080/"
        },
        "outputId": "500a937d-f1c8-458b-f732-6de8e6288e95"
      },
      "source": [
        "import sys\n",
        "print(sys.getrecursionlimit())"
      ],
      "execution_count": null,
      "outputs": [
        {
          "output_type": "stream",
          "name": "stdout",
          "text": [
            "1000\n"
          ]
        }
      ]
    },
    {
      "cell_type": "markdown",
      "metadata": {
        "id": "-f8ChX5h2POP"
      },
      "source": [
        "We can definitely change this default number. But doing so comes to a cost because when Python makes a recursive function call, it has to push the current run of function into a stack. The more recursive function calls we make, the deeper the stack (this is why the error message says recursion depth), and the more computer memory will be used. Python has to make a firm limit of the maximum number of recursions so that it does not abuse the other very limited computer memory. This is a great feature of Python -- some other computer programming languages do not enforce this and therefore may often crush the computers.\n",
        "\n",
        "## Calculating the sum of a number list recursively\n",
        "\n",
        "Now we are going to revisit something we have seen before: how to compute the sum of a list of numbers. At this point of this class, we should know this algorithm well -- we literally go through each item in the list and add it to a variable that is initially set to zero. We will use an unsorted list of numbers called `my_nums` to test this procedure."
      ]
    },
    {
      "cell_type": "code",
      "metadata": {
        "id": "mohDmKdd2POP"
      },
      "source": [
        "my_nums = [6, 3, 10, 8]"
      ],
      "execution_count": null,
      "outputs": []
    },
    {
      "cell_type": "markdown",
      "metadata": {
        "id": "YSULOCF42POQ"
      },
      "source": [
        "We implement the algorithm in a function called `total`:"
      ]
    },
    {
      "cell_type": "code",
      "metadata": {
        "id": "LSHW1m8w2POQ"
      },
      "source": [
        "def total(nums):\n",
        "    s = 0\n",
        "    for i in nums:\n",
        "        s += i\n",
        "    return s"
      ],
      "execution_count": null,
      "outputs": []
    },
    {
      "cell_type": "markdown",
      "metadata": {
        "id": "R05l5eNl2POQ"
      },
      "source": [
        "And test it we will:"
      ]
    },
    {
      "cell_type": "code",
      "metadata": {
        "id": "cJHwGUww2POR",
        "colab": {
          "base_uri": "https://localhost:8080/"
        },
        "outputId": "ca8f967f-3f6b-4197-a9fa-53fe869a5963"
      },
      "source": [
        "total(my_nums)"
      ],
      "execution_count": null,
      "outputs": [
        {
          "output_type": "execute_result",
          "data": {
            "text/plain": [
              "27"
            ]
          },
          "metadata": {},
          "execution_count": 16
        }
      ]
    },
    {
      "cell_type": "markdown",
      "metadata": {
        "id": "IMZp8SmL2POR"
      },
      "source": [
        "No problem there is. Of course, we need assume the list only contains numbers.\n",
        "\n",
        "We will explore two recursive approaches here. The first one is relatively straightforward: we keep adding the first item in the list when we go down to the list (more explanation later). By going down the list, every time we call the same function (which requires a list), we use the remaining portion of the list after we taking out the first item, which can be done by slicing. The going down part will be done when we reach the last item in the list, or, in other words, the remaining portion of the list only has one item."
      ]
    },
    {
      "cell_type": "code",
      "metadata": {
        "id": "5YIw43582POS"
      },
      "source": [
        "def total_recursive(nums):\n",
        "    if len(nums) == 1:\n",
        "        return nums[0]\n",
        "    return nums[0] + total_recursive(nums[1:])\n",
        ""
      ],
      "execution_count": null,
      "outputs": []
    },
    {
      "cell_type": "markdown",
      "metadata": {
        "id": "PrXNu5ZL2POS"
      },
      "source": [
        "If we can't wait, test it too we will:"
      ]
    },
    {
      "cell_type": "code",
      "metadata": {
        "id": "Bgl-TkTp2POS",
        "colab": {
          "base_uri": "https://localhost:8080/"
        },
        "outputId": "05318c0f-9573-48bb-a822-f5ec089b2622"
      },
      "source": [
        "total_recursive(my_nums)"
      ],
      "execution_count": null,
      "outputs": [
        {
          "output_type": "execute_result",
          "data": {
            "text/plain": [
              "27"
            ]
          },
          "metadata": {},
          "execution_count": 18
        }
      ]
    },
    {
      "cell_type": "markdown",
      "metadata": {
        "id": "zo6nAi9P2POS"
      },
      "source": [
        "So it gives us exactly as what we got using the traditional approach as implemented in function `total`. How does this work then? We will again using a diagram to trace what happens throughout the function calls. We must note one fact to understand the mechanism in our particular function. When the `if` condition is false, the code goes to the last line. This one-liner, however, contains another function call (self-calling) and therefore Python will hold the addition but go ahead to call that function first. Now we know this call will fire up another call, and another...until we reach the base case that returns the last item in the last. From there, all addition operations held so far will be carried out in an opposite order as they are called -- the addition involving the first item in the list, 6, will be done last.\n",
        "\n",
        "\n",
        "```\n",
        "Function calls                            Output (return)\n",
        "\n",
        "+-- total_recursive([6, 3, 10, 8])\n",
        "|  +-- total_recursive([3, 10, 8])\n",
        "|  |  +-- total_recursive([10, 8])\n",
        "|  |  |  +-- total_recursive([8])\n",
        "|  |  |  |  +-- return 8                  8\n",
        "|  |  |  +-- return 10 + 8                18\n",
        "|  |  +-- return 3 + 18                   21\n",
        "|  +-- return 6 + 21                      27\n",
        "```\n",
        "\n",
        "This seems to work out fine. Now we are making it a little more complicated. Instead of continuously adding the first item in the remaining list, we continuously pick the one in the middle. This will require us to (1) get the item in the middle, and (2) divide the list into two smaller lists. We will get the middle item using the integer division, and get the two lists on both sides of the middle item using slicing."
      ]
    },
    {
      "cell_type": "code",
      "metadata": {
        "id": "hi9cGzgn2POT"
      },
      "source": [
        "def rtotal2(nums):\n",
        "    if len(nums) == 0:\n",
        "      return 0\n",
        "    elif len(nums) == 1:\n",
        "      return nums[0]\n",
        "    mid = len(nums) // 2\n",
        "    return nums[mid] + rtotal2(nums[:mid]) + rtotal2(nums[mid+1:])\n",
        ""
      ],
      "execution_count": null,
      "outputs": []
    },
    {
      "cell_type": "markdown",
      "metadata": {
        "id": "yImsafPW2POT"
      },
      "source": [
        "This time, the base case contains two scenarios. At some point, a remaining list might have two items and the second one will be considered as the middle item (`2//1` will give us 1, the index of the second item). By further dividing this, the right remaining list will be empty and the left remaining still has one. When the list is empty, we will just return zero, and when the list has one item, we return the value of that item."
      ]
    },
    {
      "cell_type": "code",
      "metadata": {
        "id": "rKyysnU92POU",
        "colab": {
          "base_uri": "https://localhost:8080/"
        },
        "outputId": "fba2cc2f-2e6c-4286-a943-2e8b33651790"
      },
      "source": [
        "rtotal2(my_nums)"
      ],
      "execution_count": null,
      "outputs": [
        {
          "output_type": "execute_result",
          "data": {
            "text/plain": [
              "27"
            ]
          },
          "metadata": {},
          "execution_count": 20
        }
      ]
    },
    {
      "cell_type": "markdown",
      "metadata": {
        "id": "e9-uF3Am2POU"
      },
      "source": [
        "### <font color=\"green\">TODO</font>\n",
        "\n",
        "The following diagram shows how function `rtotal2` works when given an input of `[6, 3, 10, 8]`. Please replace the parts marked by the question marks with the actual function call or the output. Double-click on this cell to start editing. The text below are enclosed in three backticks (\\`\\`\\`) so that the context will be rendered in fixed width typeface. After editing is done, click on the run button in the toolbar (or press Shift-Enter or Ctrl-Enter) to display the cell.\n",
        "\n",
        "\n",
        "```\n",
        "Function calls                            Output (return)\n",
        "\n",
        "+-- rtotal2([6, 3, 10, 8])\n",
        "|  +-- mid = 2\n",
        "|  +-- rtotal2([6 3])\n",
        "|  |  +-- mid = 1\n",
        "|  |  +-- rtotal2([6])\n",
        "|  |  |  +-- return 6                     6\n",
        "|  |  +-- rtotal2([])\n",
        "|  |  |  +-- return 0                     0\n",
        "|  |  +-- return 3 + 6 + 0                9\n",
        "|  +-- rtotal2([8])\n",
        "|  |  +-- return 8                        8\n",
        "|  +-- return 3 + 6 + 8 + 10              27\n",
        "\n",
        "```\n"
      ]
    },
    {
      "cell_type": "markdown",
      "metadata": {
        "id": "KHuhN6vZ2POU"
      },
      "source": [
        "We can test a list with more numbers."
      ]
    },
    {
      "cell_type": "code",
      "metadata": {
        "scrolled": true,
        "id": "i9ij7gXI2POU",
        "colab": {
          "base_uri": "https://localhost:8080/"
        },
        "outputId": "651011e2-e301-4226-e7e5-68c4bcbf384e"
      },
      "source": [
        "my_long_nums = list(range(1, 100))\n",
        "rtotal2(my_long_nums)"
      ],
      "execution_count": null,
      "outputs": [
        {
          "output_type": "execute_result",
          "data": {
            "text/plain": [
              "4950"
            ]
          },
          "metadata": {},
          "execution_count": 21
        }
      ]
    },
    {
      "cell_type": "markdown",
      "metadata": {
        "id": "xFWzSIR72POV"
      },
      "source": [
        "We can make some slight changes to the above code to show a little more information. More specifically, each time the function is called, we print out the list input (`nums`), the left, middle, and right sub-list."
      ]
    },
    {
      "cell_type": "code",
      "metadata": {
        "id": "7mq1ZccK2POV"
      },
      "source": [
        "def rtotal2(nums):\n",
        "    if len(nums) == 0:\n",
        "        return 0\n",
        "    elif len(nums) == 1:\n",
        "        return nums[0]\n",
        "    mid = len(nums) // 2\n",
        "    info = '*  {:>40} --- {}  [{}]  {}'.format(str(nums), nums[:mid], nums[mid], nums[mid+1:])\n",
        "    print(info)\n",
        "    return nums[mid] + rtotal2(nums[:mid]) + rtotal2(nums[mid+1:])"
      ],
      "execution_count": null,
      "outputs": []
    },
    {
      "cell_type": "markdown",
      "metadata": {
        "id": "9rAVxIQB2POV"
      },
      "source": [
        "The following shows what happens to our 4-item list. The first line of printout shows the list is subdivided into three parts. Both of the right and left sub-list will be used for further self-calling, but only the left one is shown, because the right one has only one item and, according to the how the function is written, the code will not reach the part where we print out variable `info`."
      ]
    },
    {
      "cell_type": "code",
      "metadata": {
        "scrolled": true,
        "id": "HlWQHeaB2POV",
        "colab": {
          "base_uri": "https://localhost:8080/"
        },
        "outputId": "ab74119d-5df2-480d-802e-fc076df445f3"
      },
      "source": [
        "rtotal2(my_nums)"
      ],
      "execution_count": null,
      "outputs": [
        {
          "output_type": "stream",
          "name": "stdout",
          "text": [
            "*                             [6, 3, 10, 8] --- [6, 3]  [10]  [8]\n",
            "*                                    [6, 3] --- [6]  [3]  []\n"
          ]
        },
        {
          "output_type": "execute_result",
          "data": {
            "text/plain": [
              "27"
            ]
          },
          "metadata": {},
          "execution_count": 23
        }
      ]
    },
    {
      "cell_type": "markdown",
      "metadata": {
        "id": "merK5Sqv2POV"
      },
      "source": [
        "We can try another one with a little more items for more observations."
      ]
    },
    {
      "cell_type": "code",
      "metadata": {
        "id": "d2hdD7mS2POV",
        "colab": {
          "base_uri": "https://localhost:8080/"
        },
        "outputId": "9b0e048d-9606-4e47-83bc-9dcd08a47607"
      },
      "source": [
        "rtotal2(list(range(1, 13)))"
      ],
      "execution_count": null,
      "outputs": [
        {
          "output_type": "stream",
          "name": "stdout",
          "text": [
            "*   [1, 2, 3, 4, 5, 6, 7, 8, 9, 10, 11, 12] --- [1, 2, 3, 4, 5, 6]  [7]  [8, 9, 10, 11, 12]\n",
            "*                        [1, 2, 3, 4, 5, 6] --- [1, 2, 3]  [4]  [5, 6]\n",
            "*                                 [1, 2, 3] --- [1]  [2]  [3]\n",
            "*                                    [5, 6] --- [5]  [6]  []\n",
            "*                        [8, 9, 10, 11, 12] --- [8, 9]  [10]  [11, 12]\n",
            "*                                    [8, 9] --- [8]  [9]  []\n",
            "*                                  [11, 12] --- [11]  [12]  []\n"
          ]
        },
        {
          "output_type": "execute_result",
          "data": {
            "text/plain": [
              "78"
            ]
          },
          "metadata": {},
          "execution_count": 24
        }
      ]
    },
    {
      "cell_type": "markdown",
      "metadata": {
        "id": "XGpP3lw62POW"
      },
      "source": [
        "Using this on a much longer list will work but the print out will be messy because we only leave the left side of `---` 40 characters. It is informative nonetheless."
      ]
    },
    {
      "cell_type": "code",
      "metadata": {
        "id": "u9lf-qDq2POW",
        "colab": {
          "base_uri": "https://localhost:8080/"
        },
        "outputId": "6535f171-c5b8-41b9-d8de-9b28ca24730d"
      },
      "source": [
        "rtotal2(list(range(1, 101)))"
      ],
      "execution_count": null,
      "outputs": [
        {
          "output_type": "stream",
          "name": "stdout",
          "text": [
            "*  [1, 2, 3, 4, 5, 6, 7, 8, 9, 10, 11, 12, 13, 14, 15, 16, 17, 18, 19, 20, 21, 22, 23, 24, 25, 26, 27, 28, 29, 30, 31, 32, 33, 34, 35, 36, 37, 38, 39, 40, 41, 42, 43, 44, 45, 46, 47, 48, 49, 50, 51, 52, 53, 54, 55, 56, 57, 58, 59, 60, 61, 62, 63, 64, 65, 66, 67, 68, 69, 70, 71, 72, 73, 74, 75, 76, 77, 78, 79, 80, 81, 82, 83, 84, 85, 86, 87, 88, 89, 90, 91, 92, 93, 94, 95, 96, 97, 98, 99, 100] --- [1, 2, 3, 4, 5, 6, 7, 8, 9, 10, 11, 12, 13, 14, 15, 16, 17, 18, 19, 20, 21, 22, 23, 24, 25, 26, 27, 28, 29, 30, 31, 32, 33, 34, 35, 36, 37, 38, 39, 40, 41, 42, 43, 44, 45, 46, 47, 48, 49, 50]  [51]  [52, 53, 54, 55, 56, 57, 58, 59, 60, 61, 62, 63, 64, 65, 66, 67, 68, 69, 70, 71, 72, 73, 74, 75, 76, 77, 78, 79, 80, 81, 82, 83, 84, 85, 86, 87, 88, 89, 90, 91, 92, 93, 94, 95, 96, 97, 98, 99, 100]\n",
            "*  [1, 2, 3, 4, 5, 6, 7, 8, 9, 10, 11, 12, 13, 14, 15, 16, 17, 18, 19, 20, 21, 22, 23, 24, 25, 26, 27, 28, 29, 30, 31, 32, 33, 34, 35, 36, 37, 38, 39, 40, 41, 42, 43, 44, 45, 46, 47, 48, 49, 50] --- [1, 2, 3, 4, 5, 6, 7, 8, 9, 10, 11, 12, 13, 14, 15, 16, 17, 18, 19, 20, 21, 22, 23, 24, 25]  [26]  [27, 28, 29, 30, 31, 32, 33, 34, 35, 36, 37, 38, 39, 40, 41, 42, 43, 44, 45, 46, 47, 48, 49, 50]\n",
            "*  [1, 2, 3, 4, 5, 6, 7, 8, 9, 10, 11, 12, 13, 14, 15, 16, 17, 18, 19, 20, 21, 22, 23, 24, 25] --- [1, 2, 3, 4, 5, 6, 7, 8, 9, 10, 11, 12]  [13]  [14, 15, 16, 17, 18, 19, 20, 21, 22, 23, 24, 25]\n",
            "*   [1, 2, 3, 4, 5, 6, 7, 8, 9, 10, 11, 12] --- [1, 2, 3, 4, 5, 6]  [7]  [8, 9, 10, 11, 12]\n",
            "*                        [1, 2, 3, 4, 5, 6] --- [1, 2, 3]  [4]  [5, 6]\n",
            "*                                 [1, 2, 3] --- [1]  [2]  [3]\n",
            "*                                    [5, 6] --- [5]  [6]  []\n",
            "*                        [8, 9, 10, 11, 12] --- [8, 9]  [10]  [11, 12]\n",
            "*                                    [8, 9] --- [8]  [9]  []\n",
            "*                                  [11, 12] --- [11]  [12]  []\n",
            "*  [14, 15, 16, 17, 18, 19, 20, 21, 22, 23, 24, 25] --- [14, 15, 16, 17, 18, 19]  [20]  [21, 22, 23, 24, 25]\n",
            "*                  [14, 15, 16, 17, 18, 19] --- [14, 15, 16]  [17]  [18, 19]\n",
            "*                              [14, 15, 16] --- [14]  [15]  [16]\n",
            "*                                  [18, 19] --- [18]  [19]  []\n",
            "*                      [21, 22, 23, 24, 25] --- [21, 22]  [23]  [24, 25]\n",
            "*                                  [21, 22] --- [21]  [22]  []\n",
            "*                                  [24, 25] --- [24]  [25]  []\n",
            "*  [27, 28, 29, 30, 31, 32, 33, 34, 35, 36, 37, 38, 39, 40, 41, 42, 43, 44, 45, 46, 47, 48, 49, 50] --- [27, 28, 29, 30, 31, 32, 33, 34, 35, 36, 37, 38]  [39]  [40, 41, 42, 43, 44, 45, 46, 47, 48, 49, 50]\n",
            "*  [27, 28, 29, 30, 31, 32, 33, 34, 35, 36, 37, 38] --- [27, 28, 29, 30, 31, 32]  [33]  [34, 35, 36, 37, 38]\n",
            "*                  [27, 28, 29, 30, 31, 32] --- [27, 28, 29]  [30]  [31, 32]\n",
            "*                              [27, 28, 29] --- [27]  [28]  [29]\n",
            "*                                  [31, 32] --- [31]  [32]  []\n",
            "*                      [34, 35, 36, 37, 38] --- [34, 35]  [36]  [37, 38]\n",
            "*                                  [34, 35] --- [34]  [35]  []\n",
            "*                                  [37, 38] --- [37]  [38]  []\n",
            "*  [40, 41, 42, 43, 44, 45, 46, 47, 48, 49, 50] --- [40, 41, 42, 43, 44]  [45]  [46, 47, 48, 49, 50]\n",
            "*                      [40, 41, 42, 43, 44] --- [40, 41]  [42]  [43, 44]\n",
            "*                                  [40, 41] --- [40]  [41]  []\n",
            "*                                  [43, 44] --- [43]  [44]  []\n",
            "*                      [46, 47, 48, 49, 50] --- [46, 47]  [48]  [49, 50]\n",
            "*                                  [46, 47] --- [46]  [47]  []\n",
            "*                                  [49, 50] --- [49]  [50]  []\n",
            "*  [52, 53, 54, 55, 56, 57, 58, 59, 60, 61, 62, 63, 64, 65, 66, 67, 68, 69, 70, 71, 72, 73, 74, 75, 76, 77, 78, 79, 80, 81, 82, 83, 84, 85, 86, 87, 88, 89, 90, 91, 92, 93, 94, 95, 96, 97, 98, 99, 100] --- [52, 53, 54, 55, 56, 57, 58, 59, 60, 61, 62, 63, 64, 65, 66, 67, 68, 69, 70, 71, 72, 73, 74, 75]  [76]  [77, 78, 79, 80, 81, 82, 83, 84, 85, 86, 87, 88, 89, 90, 91, 92, 93, 94, 95, 96, 97, 98, 99, 100]\n",
            "*  [52, 53, 54, 55, 56, 57, 58, 59, 60, 61, 62, 63, 64, 65, 66, 67, 68, 69, 70, 71, 72, 73, 74, 75] --- [52, 53, 54, 55, 56, 57, 58, 59, 60, 61, 62, 63]  [64]  [65, 66, 67, 68, 69, 70, 71, 72, 73, 74, 75]\n",
            "*  [52, 53, 54, 55, 56, 57, 58, 59, 60, 61, 62, 63] --- [52, 53, 54, 55, 56, 57]  [58]  [59, 60, 61, 62, 63]\n",
            "*                  [52, 53, 54, 55, 56, 57] --- [52, 53, 54]  [55]  [56, 57]\n",
            "*                              [52, 53, 54] --- [52]  [53]  [54]\n",
            "*                                  [56, 57] --- [56]  [57]  []\n",
            "*                      [59, 60, 61, 62, 63] --- [59, 60]  [61]  [62, 63]\n",
            "*                                  [59, 60] --- [59]  [60]  []\n",
            "*                                  [62, 63] --- [62]  [63]  []\n",
            "*  [65, 66, 67, 68, 69, 70, 71, 72, 73, 74, 75] --- [65, 66, 67, 68, 69]  [70]  [71, 72, 73, 74, 75]\n",
            "*                      [65, 66, 67, 68, 69] --- [65, 66]  [67]  [68, 69]\n",
            "*                                  [65, 66] --- [65]  [66]  []\n",
            "*                                  [68, 69] --- [68]  [69]  []\n",
            "*                      [71, 72, 73, 74, 75] --- [71, 72]  [73]  [74, 75]\n",
            "*                                  [71, 72] --- [71]  [72]  []\n",
            "*                                  [74, 75] --- [74]  [75]  []\n",
            "*  [77, 78, 79, 80, 81, 82, 83, 84, 85, 86, 87, 88, 89, 90, 91, 92, 93, 94, 95, 96, 97, 98, 99, 100] --- [77, 78, 79, 80, 81, 82, 83, 84, 85, 86, 87, 88]  [89]  [90, 91, 92, 93, 94, 95, 96, 97, 98, 99, 100]\n",
            "*  [77, 78, 79, 80, 81, 82, 83, 84, 85, 86, 87, 88] --- [77, 78, 79, 80, 81, 82]  [83]  [84, 85, 86, 87, 88]\n",
            "*                  [77, 78, 79, 80, 81, 82] --- [77, 78, 79]  [80]  [81, 82]\n",
            "*                              [77, 78, 79] --- [77]  [78]  [79]\n",
            "*                                  [81, 82] --- [81]  [82]  []\n",
            "*                      [84, 85, 86, 87, 88] --- [84, 85]  [86]  [87, 88]\n",
            "*                                  [84, 85] --- [84]  [85]  []\n",
            "*                                  [87, 88] --- [87]  [88]  []\n",
            "*  [90, 91, 92, 93, 94, 95, 96, 97, 98, 99, 100] --- [90, 91, 92, 93, 94]  [95]  [96, 97, 98, 99, 100]\n",
            "*                      [90, 91, 92, 93, 94] --- [90, 91]  [92]  [93, 94]\n",
            "*                                  [90, 91] --- [90]  [91]  []\n",
            "*                                  [93, 94] --- [93]  [94]  []\n",
            "*                     [96, 97, 98, 99, 100] --- [96, 97]  [98]  [99, 100]\n",
            "*                                  [96, 97] --- [96]  [97]  []\n",
            "*                                 [99, 100] --- [99]  [100]  []\n"
          ]
        },
        {
          "output_type": "execute_result",
          "data": {
            "text/plain": [
              "5050"
            ]
          },
          "metadata": {},
          "execution_count": 25
        }
      ]
    }
  ]
}