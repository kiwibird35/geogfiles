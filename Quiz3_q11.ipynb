{
  "nbformat": 4,
  "nbformat_minor": 0,
  "metadata": {
    "colab": {
      "provenance": [],
      "authorship_tag": "ABX9TyNndL8HlizcDS01Xh77QbSE",
      "include_colab_link": true
    },
    "kernelspec": {
      "name": "python3",
      "display_name": "Python 3"
    },
    "language_info": {
      "name": "python"
    }
  },
  "cells": [
    {
      "cell_type": "markdown",
      "metadata": {
        "id": "view-in-github",
        "colab_type": "text"
      },
      "source": [
        "<a href=\"https://colab.research.google.com/github/kiwibird35/geogfiles/blob/main/Quiz3_q11.ipynb\" target=\"_parent\"><img src=\"https://colab.research.google.com/assets/colab-badge.svg\" alt=\"Open In Colab\"/></a>"
      ]
    },
    {
      "cell_type": "code",
      "metadata": {
        "colab": {
          "base_uri": "https://localhost:8080/"
        },
        "id": "JDj-vvSF5sZd",
        "outputId": "b006bd53-76ea-497b-a482-2981df431bbd"
      },
      "source": [
        "#problem1\n",
        "#Write a Python list comprehension that will yield a list of [0, 1, 0, 1, 0, 1].\n",
        "[x for x in range(2)]*3"
      ],
      "execution_count": null,
      "outputs": [
        {
          "output_type": "execute_result",
          "data": {
            "text/plain": [
              "[0, 1, 0, 1, 0, 1]"
            ]
          },
          "metadata": {},
          "execution_count": 35
        }
      ]
    },
    {
      "cell_type": "code",
      "metadata": {
        "colab": {
          "base_uri": "https://localhost:8080/",
          "height": 35
        },
        "id": "2ifyhnLf6C9Q",
        "outputId": "e3f944da-3702-4be1-fe0d-cb5f762e4d39"
      },
      "source": [
        "#problem2\n",
        "#The following Python code is supposed to yield a value of 'a'. But it will not work because it has an error. Please fix the code so that it works correctly. Your solution should still be one line of code and all the elements in the original code must be in the corrected code.\n",
        "\n",
        "[1, 2, 10, 11, 12, 'a', 'b', 'c'][5]\n"
      ],
      "execution_count": null,
      "outputs": [
        {
          "output_type": "execute_result",
          "data": {
            "application/vnd.google.colaboratory.intrinsic+json": {
              "type": "string"
            },
            "text/plain": [
              "'a'"
            ]
          },
          "metadata": {},
          "execution_count": 42
        }
      ]
    },
    {
      "cell_type": "code",
      "metadata": {
        "colab": {
          "base_uri": "https://localhost:8080/"
        },
        "id": "CX2hJ3wP6IvK",
        "outputId": "500c3388-74d2-4ed3-83c3-f544f2e7c180"
      },
      "source": [
        "#problem3\n",
        "#We have the following Python script.\n",
        "\n",
        "prefixes = 'JKLMNOPQ'\n",
        "suffix = 'ack'\n",
        "names = [c + '.'+ suffix for c in prefixes]\n",
        "print(names)\n",
        "#Change the list comprehension the code (third line) so that the program will print out exactly like this:\n",
        "#['J. Ack', 'K. Ack', 'L. Ack', 'M. Ack', 'N. Ack', 'O. Ack', 'P. Ack', 'Q. Ack']"
      ],
      "execution_count": null,
      "outputs": [
        {
          "output_type": "stream",
          "name": "stdout",
          "text": [
            "['J.ack', 'K.ack', 'L.ack', 'M.ack', 'N.ack', 'O.ack', 'P.ack', 'Q.ack']\n"
          ]
        }
      ]
    }
  ]
}