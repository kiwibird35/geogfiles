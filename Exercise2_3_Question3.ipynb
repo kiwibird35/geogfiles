{
  "nbformat": 4,
  "nbformat_minor": 0,
  "metadata": {
    "colab": {
      "provenance": [],
      "authorship_tag": "ABX9TyMm1XSulmX2aXvJBXLIF+KW",
      "include_colab_link": true
    },
    "kernelspec": {
      "name": "python3",
      "display_name": "Python 3"
    },
    "language_info": {
      "name": "python"
    }
  },
  "cells": [
    {
      "cell_type": "markdown",
      "metadata": {
        "id": "view-in-github",
        "colab_type": "text"
      },
      "source": [
        "<a href=\"https://colab.research.google.com/github/kiwibird35/geogfiles/blob/main/Exercise2_3_Question3.ipynb\" target=\"_parent\"><img src=\"https://colab.research.google.com/assets/colab-badge.svg\" alt=\"Open In Colab\"/></a>"
      ]
    },
    {
      "cell_type": "code",
      "metadata": {
        "id": "tILypxbiqImV"
      },
      "source": [
        "(1.)\n",
        "1. def pip_cross(point, pgon): #define function pip_cross\n",
        " 2.     if pgon[0] != pgon[-1]: #if the last point is not equal to the first point\n",
        " 3.         raise Exception('Polygon not closed') #bring attention that the polygon is not closed and ends function\n",
        " 4.     x, y = point.x, point.y #x & y coordinates stored in point.x and point.y\n",
        " 5.     N = len(pgon) #length of the points\n",
        " 6.     crossing_count = 0 #initialize count of variable crossing_count at 0\n",
        " 7.     is_point_inside = False #Boolean variable assinged to False\n",
        " 8.     for i in range(N-1): #for loop in range 0 to minus 1 of integer N, which is the length of the pgon\n",
        " 9.         p1, p2 = pgon[i], pgon[i+1] #variables p1, p2 assigned to pgon[i] first element in pgon, pgon[i+1] next element in pgon.\n",
        "10.         yside1 = p1.y >= y #variable yside1 is equal to p1.y that is greaterthan or equal to y\n",
        "11.         yside2 = p2.y >= y #variable yside2 is equal to p2.y that is greaterthan or equal to y\n",
        "12.         xside1 = p1.x >= x #variable xside1 is equal to p1.x that is greaterthan or equal to x\n",
        "13.         xside2 = p2.x >= x #variable xside1 is equal to p2.x that is greaterthan or equal to x\n",
        "14.         if (p1.y == p2.y == y and (xside1 != xside2 or x == p1.x or x == p2.x)) or \\ #condition: if p1.y is equal to p2.y is equal to y and (xside1 is not equal to xside2 or x is equal to p1.x or x is equal to p2.x)\n",
        "15.         (p1.x == p2.x == x and (yside1 != yside2 or y == p1.y or y == p2.y)) or \\ #or p1.x is equal to p2.x is equal to x and (yside1 is not equal to yside2 or y is equal to p1.y or y is equal to p2.7)\n",
        "16.         p1 == point or \\ #or p1 is equal to point\n",
        "17.         p2 == point: # or p2 is equal to point then execute the following\n",
        "18.             crossing_count = 1 #if any of the above conditions happen, then crossing_count is updated to 1\n",
        "19.             is_point_inside = True #and is_point_inside Boolean value is update to True\n",
        "20.             return is_point_inside, crossing_count #return the values of variables is_point_inside, crossing_count (True, 1)\n",
        "21.         if yside1 != yside2: #condition: if yside1 is not equal to yside2 then continue on to next condition\n",
        "22.             if xside1 == xside2: #condition: if xside1 is equal to xside2 then continue on to next condition\n",
        "23.                 if xside1: #condition: if xside1 is not 0 then execute the following\n",
        "24.                     crossing_count += 1 #update crossing_count to increment by 1\n",
        "25.                     is_point_inside = not is_point_inside #and make is_point_inside equal to not is_point_inside\n",
        "26.             else: #else statement when above condition is not met\n",
        "27.                 m = p2.x - (p2.y-y)*(p1.x-p2.x)/(p1.y-p2.y) #variable m equal to the value of the equation p2.x - (p2.y-y)*(p1.x-p2.x)/(p1.y-p2.y)\n",
        "28.                 if m == x: #condition: if m is equal to x then execute the following\n",
        "29.                     crossing_count = 1 #if the above condition is met, then update crossing_count to 1\n",
        "30.                     is_point_inside = True #and is_point_inside is update to Boolean value of True\n",
        "31.                     return is_point_inside, crossing_count #returns the value of is_point_inside, crossing_count (True, 1)\n",
        "32.                 elif m > x: #elseif statement of m is greater than x\n",
        "33.                     crossing_count += 1 #is above elseif statement is true then update crossing_count to 1\n",
        "34.                     is_point_inside = not is_point_inside #and update is_point_inside to not is_point_inside\n",
        "35.     return is_point_inside, crossing_count #returns values of is_point_inside, crossing_count\n",
        "\n",
        "\n",
        "(2) #m calculates if a given point is inside the boundary of the given polygon. It runs a half-line horizontally and if it crosses the boundary of the polygon an odd number of times, then it is considered inside the polygon.\n",
        "#If it crosses twice, then it would be outside of the polygon.\n",
        "(3) #You can detect if a point is below the line segment with the Y coordianates. The point is above the line if its Y coordinate is greaterthan or equal to the Y coordinate of the line."
      ],
      "execution_count": null,
      "outputs": []
    }
  ]
}