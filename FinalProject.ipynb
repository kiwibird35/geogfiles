{
  "nbformat": 4,
  "nbformat_minor": 0,
  "metadata": {
    "colab": {
      "provenance": [],
      "authorship_tag": "ABX9TyPlrNDIuEtkTuXzxLY0hrzy",
      "include_colab_link": true
    },
    "kernelspec": {
      "name": "python3",
      "display_name": "Python 3"
    },
    "language_info": {
      "name": "python"
    }
  },
  "cells": [
    {
      "cell_type": "markdown",
      "metadata": {
        "id": "view-in-github",
        "colab_type": "text"
      },
      "source": [
        "<a href=\"https://colab.research.google.com/github/kiwibird35/geogfiles/blob/main/FinalProject.ipynb\" target=\"_parent\"><img src=\"https://colab.research.google.com/assets/colab-badge.svg\" alt=\"Open In Colab\"/></a>"
      ]
    },
    {
      "cell_type": "code",
      "source": [
        "\n",
        "!git clone https://github.com/kiwibird35/geogfiles.git"
      ],
      "metadata": {
        "colab": {
          "base_uri": "https://localhost:8080/"
        },
        "id": "NZcIqYotlAkS",
        "outputId": "d7038277-08ef-4f45-dabe-e695b3b6d896"
      },
      "execution_count": null,
      "outputs": [
        {
          "output_type": "stream",
          "name": "stdout",
          "text": [
            "fatal: destination path 'geogfiles' already exists and is not an empty directory.\n"
          ]
        }
      ]
    },
    {
      "cell_type": "code",
      "source": [
        "!git clone https://github.com/gisalgs/geom.git\n",
        "%matplotlib inline\n",
        "import matplotlib.pyplot as plt\n",
        "from geom.point import *\n",
        "from geom.centroid import *\n",
        "from geom.shapex import*\n",
        "from geogfiles import*"
      ],
      "metadata": {
        "colab": {
          "base_uri": "https://localhost:8080/"
        },
        "id": "qreGOI37lAiM",
        "outputId": "5d84d629-cc62-42dd-ea34-3420b7cbd5d7"
      },
      "execution_count": null,
      "outputs": [
        {
          "output_type": "stream",
          "name": "stdout",
          "text": [
            "fatal: destination path 'geom' already exists and is not an empty directory.\n"
          ]
        }
      ]
    },
    {
      "cell_type": "code",
      "source": [
        "fname = 'geogfiles/USstates.shp'\n",
        "shp = shapex(fname)\n",
        "\n",
        "pa = shp[16]\n",
        "wv = shp[28]\n",
        "oh = shp[24]\n",
        "ind = shp[20]\n",
        "il = shp[25]\n",
        "mo = shp[34]\n",
        "ia = shp[12]\n",
        "\n",
        "print(shp.schema)\n",
        "print('Pennsylvania population per square mile shp[16]['properties']['POP90_SQMI'])\n",
        "print(shp[28]['properties']['POP90_SQMI'])\n",
        "print(shp[24]['properties']['POP90_SQMI'])\n",
        "print(shp[20]['properties']['POP90_SQMI'])\n",
        "print(shp[25]['properties']['POP90_SQMI'])\n",
        "print(shp[34]['properties']['POP90_SQMI'])\n",
        "print(shp[12]['properties']['POP90_SQMI'])\n"
      ],
      "metadata": {
        "colab": {
          "base_uri": "https://localhost:8080/"
        },
        "id": "DyzQhc4UarWr",
        "outputId": "7da47265-10a7-4000-f8ad-b9deef4cbc8f"
      },
      "execution_count": null,
      "outputs": [
        {
          "output_type": "stream",
          "name": "stdout",
          "text": [
            "{'geometry': 'Polygon', 'properties': [('AREA', 'float:12.3'), ('STATE_NAME', 'str:25'), ('STATE_FIPS', 'str:2'), ('POP1990', 'int:10'), ('POP1997', 'int:10'), ('POP90_SQMI', 'int:5')]}\n",
            "262\n",
            "74\n",
            "263\n",
            "152\n",
            "203\n",
            "73\n",
            "49\n"
          ]
        }
      ]
    },
    {
      "cell_type": "code",
      "source": [
        "pa_points = []\n",
        "geom = pa['geometry']['coordinates']\n",
        "for p in geom[0]:\n",
        "  pa_points.append([p[0], p[1]])\n",
        "\n",
        "pa_pts = [Point(p[0], p[1]) for p in pa_points]\n",
        "_, ax = plt.subplots()\n",
        "\n",
        "line1 = [ [p.x, p.y] for p in pa_pts ]\n",
        "l1 = plt.Polygon(line1, closed=True, fill=False, edgecolor='black', alpha=0.5)\n",
        "ax.add_patch(l1)\n",
        "\n",
        "_,f = centroid(pa_pts)\n",
        "\n",
        "ax.plot([f.x], [f.y], marker='o', color='green', markersize=50, alpha= .8)\n",
        "\n",
        "wv_points = []\n",
        "geom = wv['geometry']['coordinates']\n",
        "for p in geom[0]:\n",
        "  wv_points.append([p[0], p[1]])\n",
        "\n",
        "wv_pts = [Point(p[0], p[1]) for p in wv_points]\n",
        "\n",
        "line2 = [ [p.x, p.y] for p in wv_pts ]\n",
        "l2 = plt.Polygon(line2, closed=True, fill=False, edgecolor='black', alpha=0.5)\n",
        "ax.add_patch(l2)\n",
        "\n",
        "_,b = centroid(wv_pts)\n",
        "\n",
        "ax.plot([b.x], [b.y], marker='o', color='green', markersize=20, alpha= .8)\n",
        "\n",
        "oh_points = []\n",
        "geom = oh['geometry']['coordinates']\n",
        "for p in geom[0]:\n",
        "  oh_points.append([p[0], p[1]])\n",
        "\n",
        "oh_pts = [Point(p[0], p[1]) for p in oh_points]\n",
        "\n",
        "line3 = [ [p.x, p.y] for p in oh_pts ]\n",
        "l3 = plt.Polygon(line3, closed=True, fill=False, edgecolor='black', alpha=0.5)\n",
        "ax.add_patch(l3)\n",
        "\n",
        "\n",
        "_,c = centroid(oh_pts)\n",
        "\n",
        "ax.plot([c.x], [c.y], marker='o', color='green', markersize=50, alpha= .8)\n",
        "\n",
        "ind_points = []\n",
        "geom = ind['geometry']['coordinates']\n",
        "for p in geom[0]:\n",
        "  ind_points.append([p[0], p[1]])\n",
        "\n",
        "ind_pts = [Point(p[0], p[1]) for p in ind_points]\n",
        "\n",
        "line4 = [ [p.x, p.y] for p in ind_pts ]\n",
        "l4 = plt.Polygon(line4, closed=True, fill=False, edgecolor='black', alpha=0.5)\n",
        "ax.add_patch(l4)\n",
        "\n",
        "\n",
        "_,d = centroid(ind_pts)\n",
        "\n",
        "ax.plot([d.x], [d.y], marker='o', color='green', markersize=30, alpha= .8)\n",
        "\n",
        "il_points = []\n",
        "geom = il['geometry']['coordinates']\n",
        "for p in geom[0]:\n",
        "  il_points.append([p[0], p[1]])\n",
        "\n",
        "il_pts = [Point(p[0], p[1]) for p in il_points]\n",
        "\n",
        "\n",
        "line5 = [ [p.x, p.y] for p in il_pts ]\n",
        "l5 = plt.Polygon(line5, closed=True, fill=False, edgecolor='black', alpha=0.5)\n",
        "ax.add_patch(l5)\n",
        "\n",
        "\n",
        "_,e = centroid(il_pts)\n",
        "\n",
        "ax.plot([e.x], [e.y], marker='o', color='green', markersize=40, alpha= .8)\n",
        "\n",
        "mo_points = []\n",
        "geom = mo['geometry']['coordinates']\n",
        "for p in geom[0]:\n",
        "  mo_points.append([p[0], p[1]])\n",
        "\n",
        "mo_pts = [Point(p[0], p[1]) for p in mo_points]\n",
        "\n",
        "\n",
        "line6 = [ [p.x, p.y] for p in mo_pts ]\n",
        "l6 = plt.Polygon(line6, closed=True, fill=False, edgecolor='black', alpha=0.5)\n",
        "ax.add_patch(l6)\n",
        "\n",
        "\n",
        "_,g = centroid(mo_pts)\n",
        "\n",
        "ax.plot([g.x], [g.y], marker='o', color='green', markersize=20, alpha= .8)\n",
        "\n",
        "ia_points = []\n",
        "geom = ia['geometry']['coordinates']\n",
        "for p in geom[0]:\n",
        "  ia_points.append([p[0], p[1]])\n",
        "\n",
        "ia_pts = [Point(p[0], p[1]) for p in ia_points]\n",
        "\n",
        "\n",
        "line7 = [ [p.x, p.y] for p in ia_pts ]\n",
        "l7 = plt.Polygon(line7, closed=True, fill=False, edgecolor='black', alpha=0.5)\n",
        "ax.add_patch(l7)\n",
        "\n",
        "\n",
        "_,h = centroid(ia_pts)\n",
        "\n",
        "ax.plot([h.x], [h.y], marker='o', color='green', markersize=10, alpha= .8)\n",
        "\n",
        "ax.set_aspect('auto')\n",
        "plt.show()"
      ],
      "metadata": {
        "colab": {
          "base_uri": "https://localhost:8080/",
          "height": 265
        },
        "id": "eqfeG8L1FpCs",
        "outputId": "4e5e2af9-2e82-4c54-9477-342bc713579f"
      },
      "execution_count": null,
      "outputs": [
        {
          "output_type": "display_data",
          "data": {
            "image/png": "[encoded data removed]",
            "text/plain": [
              "<Figure size 432x288 with 1 Axes>"
            ]
          },
          "metadata": {
            "needs_background": "light"
          }
        }
      ]
    },
    {
      "cell_type": "code",
      "source": [],
      "metadata": {
        "id": "YyKFm0VAGE1j"
      },
      "execution_count": null,
      "outputs": []
    }
  ]
}