{
  "nbformat": 4,
  "nbformat_minor": 0,
  "metadata": {
    "colab": {
      "provenance": [],
      "include_colab_link": true
    },
    "kernelspec": {
      "name": "python3",
      "display_name": "Python 3"
    },
    "language_info": {
      "name": "python"
    }
  },
  "cells": [
    {
      "cell_type": "markdown",
      "metadata": {
        "id": "view-in-github",
        "colab_type": "text"
      },
      "source": [
        "<a href=\"https://colab.research.google.com/github/kiwibird35/geogfiles/blob/main/Homework2_Alltogether.ipynb\" target=\"_parent\"><img src=\"https://colab.research.google.com/assets/colab-badge.svg\" alt=\"Open In Colab\"/></a>"
      ]
    },
    {
      "cell_type": "markdown",
      "metadata": {
        "id": "VhsIxIg_XaGK"
      },
      "source": [
        "# **Question 1**"
      ]
    },
    {
      "cell_type": "code",
      "metadata": {
        "colab": {
          "base_uri": "https://localhost:8080/"
        },
        "id": "-FpjKVJSZ3aI",
        "outputId": "dff24aa0-b327-471c-cb35-2898c6385210"
      },
      "source": [
        "!git clone https://github.com/gisalgs/geom.git"
      ],
      "execution_count": null,
      "outputs": [
        {
          "output_type": "stream",
          "name": "stdout",
          "text": [
            "Cloning into 'geom'...\n",
            "remote: Enumerating objects: 314, done.\u001b[K\n",
            "remote: Total 314 (delta 0), reused 0 (delta 0), pack-reused 314\u001b[K\n",
            "Receiving objects: 100% (314/314), 57.03 KiB | 209.00 KiB/s, done.\n",
            "Resolving deltas: 100% (177/177), done.\n"
          ]
        }
      ]
    },
    {
      "cell_type": "code",
      "metadata": {
        "colab": {
          "base_uri": "https://localhost:8080/"
        },
        "id": "4F71TJAjbrzI",
        "outputId": "da8e5b01-eddd-434a-b9c2-d6d72c3d0d1d"
      },
      "source": [
        "!git clone https://github.com/gisalgs/data.git"
      ],
      "execution_count": null,
      "outputs": [
        {
          "output_type": "stream",
          "name": "stdout",
          "text": [
            "Cloning into 'data'...\n",
            "remote: Enumerating objects: 179, done.\u001b[K\n",
            "remote: Counting objects: 100% (11/11), done.\u001b[K\n",
            "remote: Compressing objects: 100% (9/9), done.\u001b[K\n",
            "remote: Total 179 (delta 2), reused 10 (delta 1), pack-reused 168\u001b[K\n",
            "Receiving objects: 100% (179/179), 24.91 MiB | 13.97 MiB/s, done.\n",
            "Resolving deltas: 100% (30/30), done.\n"
          ]
        }
      ]
    },
    {
      "cell_type": "code",
      "metadata": {
        "id": "WfP7m6GqGwwY"
      },
      "source": [
        "%matplotlib inline\n",
        "import matplotlib.pyplot as plt"
      ],
      "execution_count": null,
      "outputs": []
    },
    {
      "cell_type": "code",
      "metadata": {
        "id": "rOeHwQbTqFPz"
      },
      "source": [
        "from geom.point import *\n",
        "from geom.centroid import *\n",
        "from geom.point_in_polygon import *\n",
        "def in_or_out(pip_result):\n",
        "    if pip_result:\n",
        "        return 1\n",
        "    return 0"
      ],
      "execution_count": null,
      "outputs": []
    },
    {
      "cell_type": "code",
      "metadata": {
        "id": "Uyi9gJARZ960"
      },
      "source": [
        "from geom.shapex import*"
      ],
      "execution_count": null,
      "outputs": []
    },
    {
      "cell_type": "code",
      "metadata": {
        "id": "peznybi1bvUq"
      },
      "source": [
        "from data import*"
      ],
      "execution_count": null,
      "outputs": []
    },
    {
      "cell_type": "code",
      "metadata": {
        "colab": {
          "base_uri": "https://localhost:8080/"
        },
        "id": "yLt-cOvtaDYv",
        "outputId": "0a53ef2c-679d-4fa7-94fc-f399032244b2"
      },
      "source": [
        "is_polygon_shp = False\n",
        "while not is_polygon_shp:\n",
        "  #fname = input(\"Enter a shapefile name: \")\n",
        "  fname = 'data/uscnty48area.shp'\n",
        "  try:\n",
        "    mapdata = shapex(fname)\n",
        "  except Exception as e:\n",
        "    print('Error:', e)\n",
        "    print('Make sure your enter a valid shapefile')\n",
        "    continue\n",
        "  shp_type = mapdata[0]['geometry']['type']\n",
        "  if shp_type in ['Polygon', 'MultiPolygon']:\n",
        "    is_polygon_shp = True\n",
        "    print('There are', len(mapdata), 'features in the shapfile')\n",
        "  else:\n",
        "    print('Make sure it is a polygon or multipolygon shapefile')\n"
      ],
      "execution_count": null,
      "outputs": [
        {
          "output_type": "stream",
          "name": "stdout",
          "text": [
            "There are 3109 features in the shapfile\n"
          ]
        }
      ]
    },
    {
      "cell_type": "code",
      "metadata": {
        "id": "QxqDaBk9PhFc"
      },
      "source": [
        "import random\n",
        "g = random.randint(0,3109)\n",
        "f = mapdata[g]"
      ],
      "execution_count": null,
      "outputs": []
    },
    {
      "cell_type": "code",
      "metadata": {
        "id": "h569eQSn0oq9"
      },
      "source": [
        "raw_points = []\n",
        "geom = f['geometry']['coordinates']\n",
        "for p in geom[0]:\n",
        "  raw_points.append([p[0], p[1]])\n",
        "\n",
        "points = [Point(p[0], p[1]) for p in raw_points]\n",
        "\n",
        "x_list = []\n",
        "y_list = []\n",
        "\n",
        "for x in range(len(raw_points)):\n",
        "    x_list.append(raw_points[x][0])\n",
        "    y_list.append(raw_points[x][1])\n",
        "\n",
        "bound_box = [[min(x_list), min(y_list)], [min(x_list), max(y_list)], [max(x_list), max(y_list)], [max(x_list), min(y_list)], [min(x_list), min(y_list)] ]\n",
        "\n",
        "box_pts = [Point(p[0], p[1]) for p in bound_box]\n",
        "\n",
        "minx = min(x_list)\n",
        "maxx = max(x_list)\n",
        "miny = min(y_list)\n",
        "maxy = max(y_list)\n"
      ],
      "execution_count": null,
      "outputs": []
    },
    {
      "cell_type": "code",
      "metadata": {
        "colab": {
          "base_uri": "https://localhost:8080/",
          "height": 267
        },
        "id": "FVn0V0kxDyGd",
        "outputId": "efc4f29a-edff-47f8-d660-410f3767781b"
      },
      "source": [
        "import random\n",
        "points3 = [Point(random.uniform(minx, maxx), random.uniform(miny, maxy)) for i in range(500)]\n",
        "\n",
        "ax = plt.gca()\n",
        "line1 = [ [p.x, p.y] for p in points ]\n",
        "l1 = plt.Polygon(line1, closed=True, fill=False, edgecolor='black')\n",
        "ax.add_patch(l1)\n",
        "\n",
        "bound_box = [ [min(x_list), min(y_list)], [min(x_list), max(y_list)], [max(x_list), max(y_list)], [max(x_list), min(y_list)], [min(x_list), min(y_list)]  ]\n",
        "box = [Point(p[0], p[1]) for p in bound_box]\n",
        "line2 = [ [p.x, p.y] for p in box ]\n",
        "l2 = plt.Polygon(line2, closed=True, fill=False, edgecolor='black')\n",
        "ax.add_patch(l2)\n",
        "\n",
        "pts = points3\n",
        "\n",
        "results = [in_or_out(pip_cross(p, points)[0]) for p in pts]\n",
        "\n",
        "colors = [['red', 'blue'][i] for i in results]\n",
        "\n",
        "l3 = plt.scatter([p.x for p in pts], [p.y for p in pts], color=colors, s=15)\n",
        "\n",
        "ax.set_aspect(1)\n",
        "plt.show()"
      ],
      "execution_count": null,
      "outputs": [
        {
          "output_type": "display_data",
          "data": {
            "image/png": "[encoded data removed]",
            "text/plain": [
              "<Figure size 432x288 with 1 Axes>"
            ]
          },
          "metadata": {
            "needs_background": "light"
          }
        }
      ]
    },
    {
      "cell_type": "code",
      "metadata": {
        "colab": {
          "base_uri": "https://localhost:8080/",
          "height": 282
        },
        "id": "cPaFDqbWPW2m",
        "outputId": "180b685d-b529-40d8-b6be-9a2d804e035b"
      },
      "source": [
        "for i in range(100):\n",
        "  points3 = [Point(random.uniform(minx, maxx), random.uniform(miny, maxy)) for i in range(500)]\n",
        "\n",
        "\n",
        "result = centroid(points)\n",
        "print('The area is %s'%(result[0]))\n",
        "\n",
        "\n",
        "\n",
        "ax = plt.gca()\n",
        "ax.hist(result[0], 10, facecolor='grey', edgecolor='black', alpha=0.75)\n",
        "plt.show()"
      ],
      "execution_count": null,
      "outputs": [
        {
          "output_type": "stream",
          "name": "stdout",
          "text": [
            "The area is 0.08360466458293558\n"
          ]
        },
        {
          "output_type": "display_data",
          "data": {
            "image/png": "[encoded data removed]",
            "text/plain": [
              "<Figure size 432x288 with 1 Axes>"
            ]
          },
          "metadata": {
            "needs_background": "light"
          }
        }
      ]
    },
    {
      "cell_type": "markdown",
      "metadata": {
        "id": "G74ru-olXfjs"
      },
      "source": [
        "# **Question 2**\n",
        "\n",
        "The value of numgraticule in the projections tutorial is 56 because 56 is the number of longitude and latitude lines that make up the grid lines of the projected graticule on the map. There are 56 lines total between long/lat."
      ]
    },
    {
      "cell_type": "markdown",
      "metadata": {
        "id": "xDHDXZmpXieJ"
      },
      "source": [
        "# **Question 3**\n",
        "\n",
        "When you change lon0 to 60, you are shifting the projection over from 0 degrees to 60 degrees for the central meridian. A symmetrical map can be made by switching the 60 back to 0, so you start the central meridian at 0 degree."
      ]
    },
    {
      "cell_type": "markdown",
      "metadata": {
        "id": "mynk1HaHZbFt"
      },
      "source": [
        "# **Question 4**\n",
        "**y = 0.5072*y/2.0**- makes sure that the length of the central meridian is 0.5072 times the length of the equator\n",
        "\n",
        "**dx = x/360.0** - makes sure that the meridians are equally spaced on each parallel line\n",
        "\n",
        "**x = dx*lon** - makes sure that the meridians are equally spaced on each parallel line\n",
        "\n",
        "Doing this can make sure that original data coordinates can be transformed into the Robinson coordinates for proper projection.\n"
      ]
    },
    {
      "cell_type": "markdown",
      "metadata": {
        "id": "zLlFFjY6Zdzs"
      },
      "source": [
        "# **Question 5**\n",
        "\n",
        "In the first polygon shown on the Point-in-polygon tutorial, the return for the pip_cross function for the half-line a will be that it will be out of the polygon because the line crosses/intersects the polygon an even amount of times, 10. Half lines b, c, & d will be in because the lines cross/intersects the polygon an odd amount of times."
      ]
    },
    {
      "cell_type": "markdown",
      "metadata": {
        "id": "iZ6DkO2zZgRA"
      },
      "source": [
        "# **Question 6**\n",
        "\n",
        "https://en.wikipedia.org/wiki/Lambert_cylindrical_equal-area_projection"
      ]
    },
    {
      "cell_type": "code",
      "metadata": {
        "id": "-OsOqH_Dfhl2"
      },
      "source": [
        "import urllib.request as request\n",
        "import json\n",
        "url = 'https://raw.githubusercontent.com/gisalgs/data/master/ne_110m_coastline.geojson'\n",
        "with request.urlopen(url) as response:\n",
        "    coastline_obj = json.loads(response.read())"
      ],
      "execution_count": null,
      "outputs": []
    },
    {
      "cell_type": "code",
      "metadata": {
        "id": "K_e4ykO6bt7t"
      },
      "source": [
        "raw_points=[]\n",
        "linenum = 0\n",
        "lat0, lat1 = -90, 91\n",
        "lon0, lon1 = -180, 181\n",
        "\n",
        "for lat in range(lat0, lat1, 10):\n",
        "    for lon in range(lon0, lon1, 10):\n",
        "      raw_points.append([linenum, lon, lat])\n",
        "    linenum += 1\n",
        "\n",
        "for lon in range(lon0, lon1, 10):\n",
        "    for lat in range(lat0, lat1, 10):\n",
        "      raw_points.append([linenum, lon, lat])\n",
        "    linenum += 1\n",
        "\n",
        "numgraticule = linenum"
      ],
      "execution_count": null,
      "outputs": []
    },
    {
      "cell_type": "code",
      "metadata": {
        "id": "DQE45_LLfzZ0"
      },
      "source": [
        "for f in coastline_obj['features']:\n",
        "    geom = f['geometry']['coordinates']\n",
        "    for p in geom[0]:\n",
        "      raw_points.append([linenum, p[0], p[1]])\n",
        "    linenum += 1\n",
        "\n",
        "numline = linenum"
      ],
      "execution_count": null,
      "outputs": []
    },
    {
      "cell_type": "code",
      "metadata": {
        "colab": {
          "base_uri": "https://localhost:8080/"
        },
        "id": "zSWgtnytf19d",
        "outputId": "837f81f3-7783-48ea-a003-b44b5dd80401"
      },
      "source": [
        "!rm geom -rf\n",
        "!git clone https://github.com/gisalgs/geom.git\n",
        "from geom.worldmap import *\n",
        "from geom.plot_worldmap import *"
      ],
      "execution_count": null,
      "outputs": [
        {
          "output_type": "stream",
          "name": "stdout",
          "text": [
            "Cloning into 'geom'...\n",
            "remote: Enumerating objects: 314, done.\u001b[K\n",
            "remote: Total 314 (delta 0), reused 0 (delta 0), pack-reused 314\u001b[K\n",
            "Receiving objects: 100% (314/314), 57.03 KiB | 778.00 KiB/s, done.\n",
            "Resolving deltas: 100% (177/177), done.\n"
          ]
        }
      ]
    },
    {
      "cell_type": "code",
      "metadata": {
        "colab": {
          "base_uri": "https://localhost:8080/",
          "height": 248
        },
        "id": "moUpsdgVf-iv",
        "outputId": "dd1217da-3870-40bc-cbee-50c9a6f55b2d"
      },
      "source": [
        "from math import sin, radians, cos, pi\n",
        "\n",
        "points=[]\n",
        "\n",
        "def transform_lambert(lon, lat, lon0=0):\n",
        "  x = lon-lon0\n",
        "  y = lat * sin(radians(lat))\n",
        "  return x, y\n",
        "\n",
        "for p in raw_points:\n",
        "    p1 = transform_lambert(p[1], p[2])\n",
        "    points.append([p[0], p1[0], p1[1]])\n",
        "\n",
        "_, ax = plt.subplots()\n",
        "plot_world(ax, points, numgraticule, numline)\n",
        "plt.show()"
      ],
      "execution_count": null,
      "outputs": [
        {
          "output_type": "display_data",
          "data": {
            "image/png": "[encoded data removed]",
            "text/plain": [
              "<Figure size 432x288 with 1 Axes>"
            ]
          },
          "metadata": {
            "needs_background": "light"
          }
        }
      ]
    },
    {
      "cell_type": "markdown",
      "metadata": {
        "id": "vwgl7KWRZipS"
      },
      "source": [
        "# **Question 7**"
      ]
    },
    {
      "cell_type": "code",
      "metadata": {
        "colab": {
          "base_uri": "https://localhost:8080/"
        },
        "id": "7mh-cRv8oJhO",
        "outputId": "2abc249d-1974-4328-9e80-57f34794a60b"
      },
      "source": [
        "is_polygon_shp = False\n",
        "while not is_polygon_shp:\n",
        "  #fname = input(\"Enter a shapefile name: \")\n",
        "  fname = 'data/uscnty48area.shp'\n",
        "  try:\n",
        "    mapdata = shapex(fname)\n",
        "  except Exception as e:\n",
        "    print('Error:', e)\n",
        "    print('Invalid')\n",
        "    continue\n",
        "  shp_type = mapdata[0]['geometry']['type']\n",
        "  if shp_type in ['Polygon', 'MultiPolygon']:\n",
        "      is_polygon_shp = True\n",
        "      print('There are', len(mapdata), 'features in the shapfile')\n",
        "  else:\n",
        "    print('Invalid shapefile type, reenter the correct shapefile name.')\n",
        "  print()\n",
        "\n"
      ],
      "execution_count": null,
      "outputs": [
        {
          "output_type": "stream",
          "name": "stdout",
          "text": [
            "There are 3109 features in the shapfile\n",
            "\n"
          ]
        }
      ]
    },
    {
      "cell_type": "code",
      "metadata": {
        "colab": {
          "base_uri": "https://localhost:8080/"
        },
        "id": "BFolZ0ZggR8F",
        "outputId": "f270257c-a91d-4a9e-aa30-763bb4940a31"
      },
      "source": [
        "import random\n",
        "g = random.randint(0,3109)\n",
        "f = mapdata[g]\n",
        "print(f)\n",
        "\n",
        "raw_points = []\n",
        "geom = f['geometry']['coordinates']\n",
        "for p in geom[0]:\n",
        "  raw_points.append([p[0], p[1]])\n",
        "print(raw_points)"
      ],
      "execution_count": null,
      "outputs": [
        {
          "output_type": "stream",
          "name": "stdout",
          "text": [
            "{'type': 'Feature', 'geometry': {'type': 'Polygon', 'coordinates': [[(-85.53619816466721, 37.10952534167927), (-85.63259016475695, 37.12171934169055), (-85.6639551647861, 37.14086434170849), (-85.69142916481178, 37.17984634174468), (-85.68169316480271, 37.26846734182732), (-85.70526716482459, 37.294162341851234), (-85.70556416482486, 37.3222993418774), (-85.69406516481422, 37.365948341918056), (-85.66199816478434, 37.39215934194249), (-85.66939816479135, 37.41734934196597), (-85.66892416479072, 37.43775034198484), (-85.65323116477612, 37.44950034199587), (-85.64703516477039, 37.46836034201351), (-85.59044916471771, 37.462924342008364), (-85.5943481647214, 37.44399234199068), (-85.58536116471305, 37.42737134197523), (-85.47418616460936, 37.34887334190216), (-85.39808116453855, 37.23696934179793), (-85.41478916455412, 37.21711434177951), (-85.37635916451836, 37.211274341774015), (-85.3612531645042, 37.19169834175568), (-85.36468616450748, 37.18183534174659), (-85.40060616454093, 37.15945834172567), (-85.53619816466721, 37.10952534167927)]]}, 'properties': {'NAME': 'Green', 'STATE_NAME': 'Kentucky', 'FIPS': '21087', 'UrbanPop': 0.0, 'Area': 747737635.369, 'AreaKM2': 747.737635369, 'GEO_ID': '05000US21087', 'PopDensity': 15}, 'id': 1570}\n",
            "[[-85.53619816466721, 37.10952534167927], [-85.63259016475695, 37.12171934169055], [-85.6639551647861, 37.14086434170849], [-85.69142916481178, 37.17984634174468], [-85.68169316480271, 37.26846734182732], [-85.70526716482459, 37.294162341851234], [-85.70556416482486, 37.3222993418774], [-85.69406516481422, 37.365948341918056], [-85.66199816478434, 37.39215934194249], [-85.66939816479135, 37.41734934196597], [-85.66892416479072, 37.43775034198484], [-85.65323116477612, 37.44950034199587], [-85.64703516477039, 37.46836034201351], [-85.59044916471771, 37.462924342008364], [-85.5943481647214, 37.44399234199068], [-85.58536116471305, 37.42737134197523], [-85.47418616460936, 37.34887334190216], [-85.39808116453855, 37.23696934179793], [-85.41478916455412, 37.21711434177951], [-85.37635916451836, 37.211274341774015], [-85.3612531645042, 37.19169834175568], [-85.36468616450748, 37.18183534174659], [-85.40060616454093, 37.15945834172567], [-85.53619816466721, 37.10952534167927]]\n"
          ]
        }
      ]
    },
    {
      "cell_type": "code",
      "metadata": {
        "colab": {
          "base_uri": "https://localhost:8080/",
          "height": 35
        },
        "id": "S-dcZImggbKk",
        "outputId": "c3ef6c70-849e-4270-a27a-424fa6b4d07b"
      },
      "source": [
        "def test_polygon_type(poly):\n",
        "  points = [Point(p[0], p[1]) for p in raw_points]\n",
        "  result = centroid(points)\n",
        "  geom_type = poly['geometry']['type']\n",
        "  if geom_type == 'Multipolygon':\n",
        "    for geom in poly['geometry']['coordinates']:\n",
        "        if len(geom) > 1:\n",
        "          return 'Complicated polygons: no centroid computed'\n",
        "    return 'Complicated polygons: no centroid computed. The area is %s'%(result[0])\n",
        "  elif geom_type == 'Polygon':\n",
        "    if len(poly['geometry']['coordinates']) > 1:\n",
        "        return 'Complicated polygons: no centroid computed'\n",
        "    return 'The area is %s and centroid is at %s'%(result[0], result[1])\n",
        "\n",
        "test_polygon_type(f)"
      ],
      "execution_count": null,
      "outputs": [
        {
          "output_type": "execute_result",
          "data": {
            "application/vnd.google.colaboratory.intrinsic+json": {
              "type": "string"
            },
            "text/plain": [
              "'The area is 0.07532897090754886 and centroid is at (-85.6, 37.3)'"
            ]
          },
          "metadata": {},
          "execution_count": 19
        }
      ]
    },
    {
      "cell_type": "markdown",
      "metadata": {
        "id": "2TSRCKuFZlkS"
      },
      "source": [
        "# **Question 8**"
      ]
    },
    {
      "cell_type": "code",
      "metadata": {
        "colab": {
          "base_uri": "https://localhost:8080/"
        },
        "id": "NawbRNPLgnVF",
        "outputId": "80b0b690-27b8-4a61-c127-ad15b7b2d9f8"
      },
      "source": [
        "def find_perimeter(polygon):\n",
        "  if polygon[0] != polygon[-1]:\n",
        "    raise Exception('Polygon not closed')\n",
        "  perim = 0\n",
        "  for i in range(len(polygon_p)-1):\n",
        "    perim += Point.distance(polygon_p[i], polygon_p[i+1])\n",
        "    return perim\n",
        "\n",
        "points_perim = [ [0,10], [5,0], [10,10], [15,0], [20,10], [25,0], [30,20],[40,20], [45,0], [50,50], [40,40], [30,50], [25,20], [20,50], [15,10], [10,50], [8, 8], [4,50], [0, 10] ]\n",
        "\n",
        "polygon_p = [Point(p[0], p[1]) for p in points_perim]\n",
        "\n",
        "find_perimeter(polygon_p)\n"
      ],
      "execution_count": null,
      "outputs": [
        {
          "output_type": "execute_result",
          "data": {
            "text/plain": [
              "11.180339887498949"
            ]
          },
          "metadata": {},
          "execution_count": 20
        }
      ]
    },
    {
      "cell_type": "markdown",
      "metadata": {
        "id": "TGquL-LaZot3"
      },
      "source": [
        "# **Question 9**"
      ]
    },
    {
      "cell_type": "code",
      "metadata": {
        "id": "3Vj3PtXQZAAg"
      },
      "source": [
        "my_polygon = {\n",
        "    \"type\": \"Feature\",\n",
        "    \"geometry\": {\n",
        "        \"type\": \"Polygon\",\n",
        "        \"coordinates\": [\n",
        "            [\n",
        "                [5, 0], [3, 1], [3, 4], [5, 5], [6, 7], [9, 8], [10, 6], [12, 6], [12, 3], [9, 2], [9, 1], [5, 0]\n",
        "            ]\n",
        "        ]\n",
        "    },\n",
        "    \"properties\": {\n",
        "        \"name\": \"Kims Polygon\"\n",
        "    }\n",
        "}\n",
        "kim_points = []\n",
        "\n",
        "geom = my_polygon['geometry']['coordinates']\n",
        "for p in geom[0]:\n",
        "  kim_points.append([p[0], p[1]])\n",
        "\n",
        "kims_polygon = [Point(p[0], p[1]) for p in kim_points]"
      ],
      "execution_count": null,
      "outputs": []
    },
    {
      "cell_type": "code",
      "metadata": {
        "colab": {
          "base_uri": "https://localhost:8080/",
          "height": 265
        },
        "id": "4lufdHblIat7",
        "outputId": "356adb94-cd65-41c2-a7f2-d46ddc4cff49"
      },
      "source": [
        "_, ax = plt.subplots(1, 1)\n",
        "ax = plt.gca()\n",
        "line1 = [ [p.x, p.y] for p in kims_polygon ]\n",
        "l1 = plt.Polygon(line1, closed=True, fill=True, facecolor='grey', edgecolor='blue', alpha=0.5)\n",
        "ax.add_patch(l1)\n",
        "\n",
        "ax.scatter([p.x for p in kims_polygon], [p.y for p in kims_polygon], color='grey', marker='o', alpha=0.)\n",
        "p1 = Point(5, 5)\n",
        "pts = [p1]\n",
        "results = [in_or_out(pip_cross(p, kims_polygon)[0]) for p in pts]\n",
        "\n",
        "colors = [['red', 'blue'][i] for i in results]\n",
        "\n",
        "l2 = plt.scatter([p.x for p in pts], [p.y for p in pts], color=colors)\n",
        "\n",
        "ax.set_aspect(1)\n",
        "plt.show()"
      ],
      "execution_count": null,
      "outputs": [
        {
          "output_type": "display_data",
          "data": {
            "image/png": "[encoded data removed]",
            "text/plain": [
              "<Figure size 432x288 with 1 Axes>"
            ]
          },
          "metadata": {
            "needs_background": "light"
          }
        }
      ]
    },
    {
      "cell_type": "code",
      "metadata": {
        "colab": {
          "base_uri": "https://localhost:8080/"
        },
        "id": "4ssqIW0zg9xD",
        "outputId": "d6b4c5a9-74c5-473c-9652-1ad2d9fa784d"
      },
      "source": [
        "size_points = [Point(random.randint(3,12), random.randint(0,8)) for i in range(100)]\n",
        "\n",
        "\n",
        "pip_cross(size_points[0], kims_polygon)\n",
        "count = sum([in_or_out(pip_cross(p, kims_polygon)[0]) for p in size_points])\n",
        "\n",
        "area = (9*8)*(count/100)\n",
        "print('The size of Kims Polygon is', area)\n",
        "\n",
        "\n",
        "for p in [p1]:\n",
        "    print(f'Point {p} is {\"IN\" if pip_cross(p, kims_polygon)[0] is True else \"OUT\"}')"
      ],
      "execution_count": null,
      "outputs": [
        {
          "output_type": "stream",
          "name": "stdout",
          "text": [
            "The size of Kims Polygon is 41.04\n",
            "Point (5, 5) is IN\n"
          ]
        }
      ]
    },
    {
      "cell_type": "code",
      "metadata": {
        "colab": {
          "base_uri": "https://localhost:8080/"
        },
        "id": "NxvJ-tKJhAtY",
        "outputId": "2940beea-8705-4a67-ff57-2f651e2570b5"
      },
      "source": [
        "find_perimeter(kims_polygon)"
      ],
      "execution_count": null,
      "outputs": [
        {
          "output_type": "execute_result",
          "data": {
            "text/plain": [
              "11.180339887498949"
            ]
          },
          "metadata": {},
          "execution_count": 24
        }
      ]
    },
    {
      "cell_type": "markdown",
      "metadata": {
        "id": "-CEk8FC-Zunq"
      },
      "source": [
        "# **Question 10**"
      ]
    },
    {
      "cell_type": "code",
      "metadata": {
        "id": "DIUcK53UZdWl",
        "colab": {
          "base_uri": "https://localhost:8080/"
        },
        "outputId": "453a9bee-dce7-421e-8d25-e78ebbe6e3fe"
      },
      "source": [
        "filename = 'data/uscnty48area.shp'\n",
        "mapdata_county = shapex(filename)\n",
        "\n",
        "import random\n",
        "\n",
        "frank = mapdata_county[2382]\n",
        "\n",
        "print(frank)\n",
        "frank['properties']"
      ],
      "execution_count": null,
      "outputs": [
        {
          "output_type": "stream",
          "name": "stdout",
          "text": [
            "{'type': 'Feature', 'geometry': {'type': 'Polygon', 'coordinates': [[(-83.2428191625313, 39.80447834418919), (-83.25084616253889, 39.91220434428942), (-83.23213816252132, 39.926236344302424), (-83.26342716255044, 40.00156534437269), (-83.25198316253977, 40.023892344393516), (-83.26110816254845, 40.047551344415524), (-83.21291916250357, 40.04702134441504), (-83.2056861624967, 40.10730834447122), (-83.1719331624654, 40.107018344470816), (-83.17017016246359, 40.13798634449972), (-82.75639616207832, 40.12323934448591), (-82.76614516208747, 39.96934334434263), (-82.78039816210071, 39.96693234434042), (-82.7820531621021, 39.93235334430824), (-82.8079031621262, 39.93262334430847), (-82.81045116212863, 39.91026534428761), (-82.79426116211357, 39.91049434428783), (-82.8036291621222, 39.817922344201634), (-82.82339816214062, 39.817541344201345), (-82.82666416214374, 39.78879434417445), (-83.2428191625313, 39.80447834418919)]]}, 'properties': {'NAME': 'Franklin', 'STATE_NAME': 'Ohio', 'FIPS': '39049', 'UrbanPop': 98.13139279, 'Area': 1407660405.76, 'AreaKM2': 1407.66040576, 'GEO_ID': '05000US39049', 'PopDensity': 759}, 'id': 2382}\n"
          ]
        },
        {
          "output_type": "execute_result",
          "data": {
            "text/plain": [
              "{'Area': 1407660405.76,\n",
              " 'AreaKM2': 1407.66040576,\n",
              " 'FIPS': '39049',\n",
              " 'GEO_ID': '05000US39049',\n",
              " 'NAME': 'Franklin',\n",
              " 'PopDensity': 759,\n",
              " 'STATE_NAME': 'Ohio',\n",
              " 'UrbanPop': 98.13139279}"
            ]
          },
          "metadata": {},
          "execution_count": 25
        }
      ]
    },
    {
      "cell_type": "code",
      "metadata": {
        "id": "_2YnAZQmXfNe"
      },
      "source": [
        "from geom.transforms import transform_sinusoidal"
      ],
      "execution_count": null,
      "outputs": []
    },
    {
      "cell_type": "code",
      "metadata": {
        "id": "u_qwcMxphODR"
      },
      "source": [
        "franklin_points = []\n",
        "geom_frank = f['geometry']['coordinates']\n",
        "for p in geom_frank[0]:\n",
        "  franklin_points.append([p[0], p[1]])"
      ],
      "execution_count": null,
      "outputs": []
    },
    {
      "cell_type": "code",
      "metadata": {
        "id": "i6EXwsLshecN",
        "colab": {
          "base_uri": "https://localhost:8080/",
          "height": 235
        },
        "outputId": "c988f55e-416e-410c-b470-88566dd0550c"
      },
      "source": [
        "fcounty_points=[]\n",
        "\n",
        "def transform_sinusoidal(lon, lat, lon0=0):\n",
        "  lon1 = lon-lon0\n",
        "  x = lon1 * cos(radians(lat))\n",
        "  y = lat\n",
        "  return x, y\n",
        "\n",
        "for p in franklin_points:\n",
        "  p1 = transform_sinusoidal(p[1], p[2])\n",
        "  fcounty_points.append([p[0], p1[0], p1[1]])\n",
        "\n",
        "_, ax = plt.subplots(1, 1)\n",
        "plot_world(ax, fcounty_points, numgraticule, numline)\n",
        "plt.show()"
      ],
      "execution_count": null,
      "outputs": [
        {
          "output_type": "error",
          "ename": "IndexError",
          "evalue": "ignored",
          "traceback": [
            "\u001b[0;31m---------------------------------------------------------------------------\u001b[0m",
            "\u001b[0;31mIndexError\u001b[0m                                Traceback (most recent call last)",
            "\u001b[0;32m<ipython-input-29-946a7133acdd>\u001b[0m in \u001b[0;36m<module>\u001b[0;34m()\u001b[0m\n\u001b[1;32m      8\u001b[0m \u001b[0;34m\u001b[0m\u001b[0m\n\u001b[1;32m      9\u001b[0m \u001b[0;32mfor\u001b[0m \u001b[0mp\u001b[0m \u001b[0;32min\u001b[0m \u001b[0mfranklin_points\u001b[0m\u001b[0;34m:\u001b[0m\u001b[0;34m\u001b[0m\u001b[0;34m\u001b[0m\u001b[0m\n\u001b[0;32m---> 10\u001b[0;31m   \u001b[0mp1\u001b[0m \u001b[0;34m=\u001b[0m \u001b[0mtransform_sinusoidal\u001b[0m\u001b[0;34m(\u001b[0m\u001b[0mp\u001b[0m\u001b[0;34m[\u001b[0m\u001b[0;36m1\u001b[0m\u001b[0;34m]\u001b[0m\u001b[0;34m,\u001b[0m \u001b[0mp\u001b[0m\u001b[0;34m[\u001b[0m\u001b[0;36m2\u001b[0m\u001b[0;34m]\u001b[0m\u001b[0;34m)\u001b[0m\u001b[0;34m\u001b[0m\u001b[0;34m\u001b[0m\u001b[0m\n\u001b[0m\u001b[1;32m     11\u001b[0m   \u001b[0mfcounty_points\u001b[0m\u001b[0;34m.\u001b[0m\u001b[0mappend\u001b[0m\u001b[0;34m(\u001b[0m\u001b[0;34m[\u001b[0m\u001b[0mp\u001b[0m\u001b[0;34m[\u001b[0m\u001b[0;36m0\u001b[0m\u001b[0;34m]\u001b[0m\u001b[0;34m,\u001b[0m \u001b[0mp1\u001b[0m\u001b[0;34m[\u001b[0m\u001b[0;36m0\u001b[0m\u001b[0;34m]\u001b[0m\u001b[0;34m,\u001b[0m \u001b[0mp1\u001b[0m\u001b[0;34m[\u001b[0m\u001b[0;36m1\u001b[0m\u001b[0;34m]\u001b[0m\u001b[0;34m]\u001b[0m\u001b[0;34m)\u001b[0m\u001b[0;34m\u001b[0m\u001b[0;34m\u001b[0m\u001b[0m\n\u001b[1;32m     12\u001b[0m \u001b[0;34m\u001b[0m\u001b[0m\n",
            "\u001b[0;31mIndexError\u001b[0m: list index out of range"
          ]
        }
      ]
    },
    {
      "cell_type": "code",
      "metadata": {
        "id": "NeOITreyilR5",
        "colab": {
          "base_uri": "https://localhost:8080/"
        },
        "outputId": "c28bcb4c-6b86-4c05-9f9b-3a1a34a014fb"
      },
      "source": [
        "franklin_size = [ Point(p[0], p[1]) for p in franklin_points ]\n",
        "results = centroid(franklin_size)\n",
        "print('The area of Franklin County is %s'%(results[0]))"
      ],
      "execution_count": null,
      "outputs": [
        {
          "output_type": "stream",
          "name": "stdout",
          "text": [
            "The area of Franklin County is 0.07532897090754886\n"
          ]
        }
      ]
    }
  ]
}