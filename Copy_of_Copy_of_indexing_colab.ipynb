{
  "nbformat": 4,
  "nbformat_minor": 0,
  "metadata": {
    "kernelspec": {
      "display_name": "Python 3 (ipykernel)",
      "language": "python",
      "name": "python3"
    },
    "language_info": {
      "codemirror_mode": {
        "name": "ipython",
        "version": 3
      },
      "file_extension": ".py",
      "mimetype": "text/x-python",
      "name": "python",
      "nbconvert_exporter": "python",
      "pygments_lexer": "ipython3",
      "version": "3.8.10"
    },
    "colab": {
      "provenance": [],
      "include_colab_link": true
    }
  },
  "cells": [
    {
      "cell_type": "markdown",
      "metadata": {
        "id": "view-in-github",
        "colab_type": "text"
      },
      "source": [
        "<a href=\"https://colab.research.google.com/github/kiwibird35/geogfiles/blob/main/Copy_of_Copy_of_indexing_colab.ipynb\" target=\"_parent\"><img src=\"https://colab.research.google.com/assets/colab-badge.svg\" alt=\"Open In Colab\"/></a>"
      ]
    },
    {
      "cell_type": "markdown",
      "metadata": {
        "id": "_WYtDDQE2dnl"
      },
      "source": [
        "<a href=\"https://colab.research.google.com/github/gisalgs/notebooks/blob/main/indexing-colab.ipynb\">\n",
        "  <img src=\"https://colab.research.google.com/assets/colab-badge.svg\" alt=\"Open In Colab\"/>\n",
        "</a>\n",
        "\n",
        "# Search and Indexing\n",
        "\n",
        "\n",
        "> \"I don’t see how he can ever finish, if he doesn't begin.\"  \n",
        ">\n",
        "> <cite>Lewis Carroll, Alice's Adventures in Wonderland</cite>\n",
        "\n",
        "> \"Begin at the beginning,\" the King said, very gravely, \"and go on till you come to the end: then stop.\"\n",
        ">\n",
        "> <cite>Lewis Carroll, Alice's Adventures in Wonderland</cite>\n",
        "\n",
        "\n",
        "An **algorithm** is a process that contains a set of well designed steps for calculation. For example, we can design a process to tell that, given any integer, what is the next odd number. The word algorithm is from latin _algorismus_, which is from _al-Khwa-rizmī_, a Persian mathematician, astronomer, and geographer. There are two aspects to evaluate an algorithm: its **correctness** and **time complexity**. We focus on the latter here. Time complexity is also called running time, though the term \"running\" is not accurate because we are not really talking about how the algorithm actually runs but in theory how the computation grows with the problem size. The goal of this tutorial is to explain the fundamental concepts of time complexity. There will be four short videos associated this tutorial. They are listed below and will also be referred to in the tutorial.\n",
        "\n",
        "- [Linear search and its time complexity](https://mediasite.osu.edu/Mediasite/Play/d52ce052ccd1434cbcdead898a4152f11d)\n",
        "- [Building a binary tree](https://mediasite.osu.edu/Mediasite/Play/1d687e1028db46b8a91ba03907469b3d1d)\n",
        "- [Explanation of the code](https://mediasite.osu.edu/Mediasite/Play/e53cebfcb78d4724a95833f1fe0e1fda1d)\n",
        "- [Search and time complexity using a balanced binary tree](https://mediasite.osu.edu/Mediasite/Play/49e879bba34e48d1b8ad04befa4d13271d)\n",
        "\n",
        "\n",
        "A commonly used type of algorithms is **search**. For example, if we have a database of cities, we may want to find if a city is in the database so that we can pull information for that city. Search comes in different shapes and here we are going to generalize such tasks as searching for one dimensional information as represented using a series of numbers. These numbers can be considered as the IDs of some entities. In later part of this module we will explore how multiple dimensions in the data (such as points in spatial data) can be utilized for search.\n",
        "\n",
        "## Linear search and time complexity\n",
        "\n",
        "The simplest form of search is called **linear search**, which is a process that goes through all the items in our data and the search will stop when we either find the item we are searching for or we reach the end of all the items. Let us assume we have a list of numbers named `nums` (e.g., `nums = [1, 2, 9, 12, 15, 29, 32, 91, 4, 11]` or `num = [1, 2, 3, 4, 5, 6, 7]`) and we want to find if number `j` is in the list. The following is the linear search algorithm:\n",
        "\n",
        "***\n",
        "```\n",
        "for each number i in nums\n",
        "    if i is as same as j\n",
        "        return i and stop\n",
        "```\n",
        "***\n",
        "\n",
        "\n",
        "\n",
        "A similar linear search algorithm can be used upon a list of point called `points` where we want to find if point `p` is in the list.\n",
        "\n",
        "***\n",
        "```\n",
        "for each point p in list points\n",
        "    if p is as same as p0\n",
        "        return p and stop\n",
        "```\n",
        "***\n",
        "\n",
        "To understand the time complexity of linear search, let's assume\n",
        "\n",
        "* Getting a number (or point) out of the list takes $c_1$ time (line 1)\n",
        "* Comparing if two numbers (points) are the same takes $c_2$ time (line 2)\n",
        "* Returning the result takes $c_3$ time (line 3)\n",
        "* $c_1$, $c_2$, and $c_3$ are constants\n",
        "* There are $n$ numbers (points) in the list\n",
        "\n",
        "What is the total time needed for the above linear search algorithm? Here are some points to think about:\n",
        "\n",
        "* There are best cases and worst cases\n",
        "* In the worst case scenario, $c_1$ and $c_2$ will be run up to $n$ times, and $c_3$ will be run once\n",
        "* Therefore the total time is $c1 \\times n + c2 \\times n + c3$\n",
        "* In average, we will take $c1 \\times n/2 + c2 \\times n/2 + c3$, which can be generalized as $(n \\times b + c)$, where $b = (c1+c2)/2$\n",
        "\n",
        "\n",
        "We don't really care much about $b$ and $c$ -- they are constant and are always relatively small. But the value of n tells how running time **grows** with the data. We use a growth function to tell the running time. More specifically, if we know there is a definitive upper bound of the running time, we use a **Big-O** notation to denote the growth. In the case of the linear search algorithm, we have a running time of $O(n)$. The above algorithm is called **linear search** for a reason: the time used is linear to the size of input.\n",
        "\n",
        "**Video:** There is a [video](https://mediasite.osu.edu/Mediasite/Play/d52ce052ccd1434cbcdead898a4152f11d) that explains some of the above concepts. We only touch the Big-O notation in its simplest form and more details can be found in multiple sources such as at [Khan academy](https://www.khanacademy.org/computing/computer-science/algorithms/asymptotic-notation/a/big-o-notation) and at the [wikipedia page](https://en.wikipedia.org/wiki/Big_O_notation).\n",
        "\n",
        "\n",
        "## Quadratic time complexity\n",
        "\n",
        "Using the same logic, we can analyze the impact of $n$ on the running time of the following algorithm of finding the shortest pairwise distance in a list of points. This algorithm is not linear. It has a quadratic running time of $O(n^2)$.\n",
        "\n",
        "***\n",
        "```\n",
        "let mindist be a very large number\n",
        "for each point p1 in points:\n",
        "    for each point p2 in points:\n",
        "        if p1 is not p2:\n",
        "            let d be the distance between p1 and p2\n",
        "            if d < mindist:\n",
        "                mindist = d\n",
        "return mindist and stop\n",
        "```\n",
        "***\n",
        "\n",
        "\n",
        "\n",
        "## Search using a tree structure\n",
        "\n",
        "What we have explored so far is to **search** for something useful from a set of data. More specifically, what we have seen is a way of linear search: we just go from one end of the data to the other end. A linear search can work, but there are better ways to find info from a list. Let's consider what will happen if we re-arrange the data in the original list into a special tree structure as illustrated below:\n",
        "\n",
        "<img src=\"https://github.com/gisalgs/notebooks/blob/main/figures/trees-2.png?raw=1\" width=300/>\n",
        "\n",
        "Before we actually do the analysis, let's first introduce some key concepts of indexing and binary tree; we will then write some code to test these concepts. The idea of indexing is a huge topic and Donald E. Knuth designated a whole volume to this topic (Volume 3: Sorting and Searching) in his classic series titled *The Art of Computer Programming*. We will only touch the most basic ideas in this scope as a preparation for spatial indexing methods.\n",
        "\n",
        "Trees are an important means to organizing data. A **tree** contains multiple **nodes** where each node can have **child nodes** and **parent nodes**, except for the **root** node that does not have parent nodes and **leaf nodes** that do not have child nodes. The linkages between nodes are called the **edges**. The root serves as the access point to the entire tree. The tree illustrated above represents the sequence of numbers ranging from 1 to 7 in a **binary** fashion where each node can have up to two child nodes, and for each given node, the number that is smaller will be placed on the left child node and otherwise on the right child node.\n",
        "\n",
        "An important feature of trees is that they are structured so that we can conduct a **divide-and-conquer** approach to searching for information. Using a binary tree for example we can perform a **binary search** by excluding the nodes on one side of each node (starting at the root) and therefore expedite the search process. However, the trees for the same data can be constructed differently and one way to measure their difference is to count the number of edges one has to pass from the root to the leaf nodes.\n",
        "\n",
        "On of the interesting issues of using a tree structure is that the same data (numbers here) can be used to construct different trees, and here are two examples:\n",
        "\n",
        "<img src=\"https://github.com/gisalgs/notebooks/blob/main/figures/trees-1.png?raw=1\" width=450/>\n",
        "\n",
        "\n",
        "Which tree is \"better\" then? To answer this question, we need to introduce a few terminologies. The **depth** of a node is the number of edges on the path from the root to that node. The depth of the root is 0. There is at least a leaf node on the tree that has the deepest (with the highest number of edges) from the root, and we call this depth the **height** of the tree. The ideas of depth and height can also be looked at from the perspective of each node (we just pretend the node is the root and concentrate on all the child nodes from that node). This is what we call a **subtree**, formed by a node and all its child nodes.\n",
        "\n",
        "Every node on a tree has two subtrees, left and right. This leads to the definition of a **balanced tree**: a tree where the difference in the heights of the left and right subtrees of *any node* is no more than 1. A wordier way to say the same, but using the term depth, is this: a balanced tree is a tree where the difference in the depths of the deepest leaf nodes in the left and right subtrees of *any node* is no more than 1. To this definition (there are different definitions too), the above two tree are not balanced, but the first tree is.\n",
        "\n",
        "Given a sequence of numbers, we can build a binary tree from scratch. We use the first number as the root and the next number will be the left child node of the root if it is smaller than the toot, or the right if greater. The process continues until all numbers are included in the tree. [**This video**](https://mediasite.osu.edu/Mediasite/Play/1d687e1028db46b8a91ba03907469b3d1d) explains the process.\n",
        "\n"
      ]
    },
    {
      "cell_type": "markdown",
      "metadata": {
        "id": "YGOS60lu2dnv"
      },
      "source": [
        "## <font color=\"red\">Exercises</font>\n",
        "\n",
        "We will first reshuffle 12 integers so they are in a random order. Then we will create a binary tree using this randomly ordered list of numbers, both manually and using our code. Finally we examine the time complexity of using this binary tree. To do all of these, let's make sure we can run the following code cell, which should produce the reshuffled list for us.\n"
      ]
    },
    {
      "cell_type": "code",
      "metadata": {
        "id": "PR7I3Ji62dny",
        "colab": {
          "base_uri": "https://localhost:8080/"
        },
        "outputId": "a5179a5a-ff27-4d42-d99d-3d1df42e2c86"
      },
      "source": [
        "import random\n",
        "test_nums = list(range(12))\n",
        "random.shuffle(test_nums)\n",
        "print(test_nums)"
      ],
      "execution_count": null,
      "outputs": [
        {
          "output_type": "stream",
          "name": "stdout",
          "text": [
            "[6, 2, 9, 11, 3, 0, 8, 4, 1, 7, 5, 10]\n"
          ]
        }
      ]
    },
    {
      "cell_type": "markdown",
      "metadata": {
        "id": "QrUXsUeO2dnz"
      },
      "source": [
        "Use the numbers printed out from the above code to manually build a binary tree. Make sure to use the numbers in the printout sequentially with the one on the left being the first. We will do this in class on a paper. Make sure to include both the numbers and the tree on the paper, and submit the answer in as an image to \"Exercises - module 3.1 on paper\".\n"
      ]
    },
    {
      "cell_type": "markdown",
      "metadata": {
        "id": "gRmZu2pl2dn0"
      },
      "source": [
        "## Coding Binary Trees\n",
        "\n",
        "**Video:** Refer to [this video](https://mediasite.osu.edu/Mediasite/Play/e53cebfcb78d4724a95833f1fe0e1fda1d) for this part. Please note that the code here is not complete. Use the github repository to download the complete code (details later).\n",
        "\n",
        "We write a class to store the most fundamental concept in a tree: its nodes. Each **node** has three members: data that stores whatever information we want to store for the tree, and the left and right child nodes of each node. We can store \"whatever\" information in the data member, but we have an important assumption: we must be able to conduct **comparison** between such data. Numbers are naturally in the category because we know how to compare them. For other type of data, we must override the logic operators to make sure comparison can be done (see an example of the Point class we discussed in the previous section of this class).\n",
        "\n",
        "\n",
        "```python\n",
        "class node():\n",
        "    def __init__(self, data, left, right):\n",
        "        self.data = data\n",
        "        self.left = left\n",
        "        self.right = right\n",
        "    def __repr__(self):\n",
        "        return str(self.data)\n",
        "```\n",
        "\n",
        "In the `__repr__` method, we simply recast the data into a string, which requires the `__repr__` method for the data to be handy (note we have this for the Point class).\n",
        "\n",
        "There may be a need to write a class for the tree too. But here we take a shortcut by using the root as the tree -- the only way we access a tree is to go to its root. With that, we discuss the most important operation for trees: insertion. There are different ways to insert a node. For example, we can insert a new node to between two nodes, or we can always insert child nodes to leaf nodes. We use the latter approach here. To do so, however, we will need to be able to find the appropriate leaf node. We write a function called **search_bt** for this purpose. This is a **recursive** function since we can continuously call this function until we reach a leaf node.\n",
        "\n",
        "```python\n",
        "def search_bt(t, d, is_find_only=True):\n",
        "    if t is None:\n",
        "        return\n",
        "    if d < t.data:\n",
        "        next = t.left\n",
        "    else:\n",
        "        next = t.right\n",
        "    if t.data == d:\n",
        "        if is_find_only:\n",
        "            return t\n",
        "        else:\n",
        "            return\n",
        "    if is_find_only==False and next is None:\n",
        "        return t\n",
        "    return search_bt(next, d, is_find_only)\n",
        "```\n",
        "\n",
        "In the above function, we use something extra to make it more general than just finding the information. The Boolean variable `is_find_only` specifies whether the search is to find the value (True) or to find the immediate parent node of the value that is not present in the tree (False). The latter case is useful when we try to decide where to put a new node — it must be the node that is the immediate parent node of the new node.\n",
        "\n",
        "With that, the **insert** function becomes straightforward: we first find the node to which the new node should be inserted as a child node and then make it as either the left or right child node of that node.\n"
      ]
    },
    {
      "cell_type": "markdown",
      "metadata": {
        "id": "-fuyio8X2dn1"
      },
      "source": [
        "```python\n",
        "def insert(t, d):\n",
        "    n = search_bt(t, d, False)\n",
        "    if n is None:\n",
        "        return\n",
        "    n0 = node(d, left=None, right=None)\n",
        "    if d < n.data:\n",
        "        n.left = n0\n",
        "    else:\n",
        "        n.right = n0\n",
        "```\n",
        "\n",
        "Now, we get to use the functions to create a tree. To make things simple, we actually write a function called `bt` that creates the tree and returns the root of the tree. It should be noted that the first item in the data will be used as the root of the tree. Not ideal (since no guarantee of a balanced tree), but we will use it for this class. And then we write another function to print out the content in the tree in the order the data is sorted.\n",
        "\n",
        "```python\n",
        "def bt(data):\n",
        "    root = node(data=data[0], left=None, right=None)\n",
        "    for d in data[1:]:\n",
        "        insert(root, d)\n",
        "    return root\n",
        "\n",
        "def bt_print(t):\n",
        "    if t.left:\n",
        "        bt_print(t.left)\n",
        "    print(t)\n",
        "    if t.right:\n",
        "        bt_print(t.right)\n",
        "```"
      ]
    },
    {
      "cell_type": "markdown",
      "metadata": {
        "id": "3QMnX9vA2dn2"
      },
      "source": [
        "## Putting it together\n",
        "\n",
        "We put all the code described above into a file called [bst.py](https://github.com/gisalgs/indexing/blob/master/bst.py) that is available in a github repository called **indexing**. To use the module locally, we can save it in a folder called **indexing** under our root folder (this is at the same level as our previous folder geom). Don't forget to create an empty file called `__init__.py` in the indexing folder. The we can use it like this:\n",
        "\n",
        "```python\n",
        "import sys\n",
        "sys.path.append('/home/xiao/lib/gisalgs')\n",
        "from indexing.bst import *\n",
        "```\n",
        "\n",
        "In this tutorial, we will run our code from colab. We first clone the repository:"
      ]
    },
    {
      "cell_type": "code",
      "metadata": {
        "id": "KTgv2uMu2dn3",
        "colab": {
          "base_uri": "https://localhost:8080/"
        },
        "outputId": "0c465ce3-1aa2-4d4e-9ebe-2f4f0996977d"
      },
      "source": [
        "!git clone https://github.com/gisalgs/indexing.git"
      ],
      "execution_count": null,
      "outputs": [
        {
          "output_type": "stream",
          "name": "stdout",
          "text": [
            "fatal: destination path 'indexing' already exists and is not an empty directory.\n"
          ]
        }
      ]
    },
    {
      "cell_type": "markdown",
      "metadata": {
        "id": "WV5PDYP92dn5"
      },
      "source": [
        "and then import the necessary modules:"
      ]
    },
    {
      "cell_type": "code",
      "metadata": {
        "id": "6bBUM4-B2dn6"
      },
      "source": [
        "from indexing.bst import *\n",
        "import random"
      ],
      "execution_count": null,
      "outputs": []
    },
    {
      "cell_type": "markdown",
      "metadata": {
        "id": "jrUKMSMz2dn6"
      },
      "source": [
        "We will first create a tree by inserting the numbers in a sorted order."
      ]
    },
    {
      "cell_type": "code",
      "metadata": {
        "id": "69M_bqwv2dn7"
      },
      "source": [
        "data = range(10)\n",
        "t = bt(data)"
      ],
      "execution_count": null,
      "outputs": []
    },
    {
      "cell_type": "markdown",
      "metadata": {
        "id": "ih0tEmZz2dn7"
      },
      "source": [
        "We can explicitly navigate the tree by calling the left and right nodes, starting from the root."
      ]
    },
    {
      "cell_type": "code",
      "metadata": {
        "id": "R-mUbWbd2dn7"
      },
      "source": [
        "t.left"
      ],
      "execution_count": null,
      "outputs": []
    },
    {
      "cell_type": "code",
      "metadata": {
        "id": "B_tgoGbE2dn8",
        "colab": {
          "base_uri": "https://localhost:8080/"
        },
        "outputId": "fa769d8a-54bb-4620-f0b0-5cafe1642010"
      },
      "source": [
        "t.right"
      ],
      "execution_count": null,
      "outputs": [
        {
          "output_type": "execute_result",
          "data": {
            "text/plain": [
              "1"
            ]
          },
          "metadata": {},
          "execution_count": 227
        }
      ]
    },
    {
      "cell_type": "markdown",
      "metadata": {
        "id": "axZujL4z2dn8"
      },
      "source": [
        "There is a function called `bt_print` in the [`bst`](https://github.com/gisalgs/indexing/blob/master/bst.py) module and it can be used to print out the nodes in the tree in a certain order."
      ]
    },
    {
      "cell_type": "code",
      "metadata": {
        "id": "AHUxz4qY2dn9",
        "colab": {
          "base_uri": "https://localhost:8080/"
        },
        "outputId": "9b66e328-59d3-4fbb-8792-2d2e4e4a0a9a"
      },
      "source": [
        "bt_print(t)"
      ],
      "execution_count": null,
      "outputs": [
        {
          "output_type": "stream",
          "name": "stdout",
          "text": [
            "0\n",
            "1\n",
            "2\n",
            "3\n",
            "4\n",
            "5\n",
            "6\n",
            "7\n",
            "8\n",
            "9\n"
          ]
        }
      ]
    },
    {
      "cell_type": "markdown",
      "metadata": {
        "id": "Zp0Z5fUe2dn-"
      },
      "source": [
        "### Printing the tree\n",
        "\n",
        "Though `bt_print` can give us some information about the tree, it is not intuitive. It would be nice if we can actually print out the \"tree\" itself. Doing so is not difficult, though quite tedious. There is a Python program available from the MIT OpenCourseWare web site at [here](http://ocw.mit.edu/courses/electrical-engineering-and-computer-science/6-006-introduction-to-algorithms-fall-2011/readings/binary-search-trees/bst.py). This program is included as a function called `tree_print` in the module called [`bst.py`](https://github.com/gisalgs/indexing/blob/master/bst.py). This function takes an input argument that is simply the root node of a tree."
      ]
    },
    {
      "cell_type": "code",
      "metadata": {
        "id": "Lz0XhiKU2dn-",
        "colab": {
          "base_uri": "https://localhost:8080/"
        },
        "outputId": "24790f8f-ab6b-4b4c-b4aa-407eeb04c468"
      },
      "source": [
        "tree_print(t)"
      ],
      "execution_count": null,
      "outputs": [
        {
          "output_type": "stream",
          "name": "stdout",
          "text": [
            "0          \n",
            "/\\         \n",
            " 1         \n",
            " /\\        \n",
            "  2        \n",
            "  /\\       \n",
            "   3       \n",
            "   /\\      \n",
            "    4      \n",
            "    /\\     \n",
            "     5     \n",
            "     /\\    \n",
            "      6    \n",
            "      /\\   \n",
            "       7   \n",
            "       /\\  \n",
            "        8  \n",
            "        /\\ \n",
            "         9 \n",
            "         /\\\n"
          ]
        }
      ]
    },
    {
      "cell_type": "markdown",
      "metadata": {
        "id": "ZhmKoTRS2dn_"
      },
      "source": [
        "### Searching a tree\n",
        "\n",
        "Now we can search for information from the trees."
      ]
    },
    {
      "cell_type": "code",
      "metadata": {
        "id": "zUD_IKHZ2dn_",
        "colab": {
          "base_uri": "https://localhost:8080/"
        },
        "outputId": "969c7611-c09e-4150-96c5-865571019669"
      },
      "source": [
        "print(search_bt(t, 0))\n",
        "print(search_bt(t, 10))"
      ],
      "execution_count": null,
      "outputs": [
        {
          "output_type": "stream",
          "name": "stdout",
          "text": [
            "0\n",
            "None\n"
          ]
        }
      ]
    },
    {
      "cell_type": "markdown",
      "metadata": {
        "id": "4Spw8XYx2doA"
      },
      "source": [
        "Then we are going to reshuffle the data and make another tree."
      ]
    },
    {
      "cell_type": "code",
      "metadata": {
        "id": "ZUyzKYMs2doA",
        "colab": {
          "base_uri": "https://localhost:8080/"
        },
        "outputId": "539aa378-8a2b-4c1f-8ac5-1d6109fb80e8"
      },
      "source": [
        "data = list(range(10))\n",
        "random.shuffle(data)\n",
        "t1 = bt(data)\n",
        "tree_print(t1)\n",
        "print(data)"
      ],
      "execution_count": null,
      "outputs": [
        {
          "output_type": "stream",
          "name": "stdout",
          "text": [
            "  _1__        \n",
            " /    \\       \n",
            "0     _4_     \n",
            "/\\   /   \\    \n",
            "    3    7_   \n",
            "    /\\  /  \\  \n",
            "   2   5   8  \n",
            "   /\\  /\\  /\\ \n",
            "        6   9 \n",
            "        /\\  /\\\n",
            "[1, 4, 7, 8, 3, 5, 6, 2, 9, 0]\n"
          ]
        }
      ]
    },
    {
      "cell_type": "markdown",
      "metadata": {
        "id": "vMPCr-vj2doA"
      },
      "source": [
        "The above tree was not balanced, even after many tries. Later in this class we will discuss how to balance a binary tree like this.\n",
        "\n",
        "Before we move on, let's think about the size of the tree. More specifically, <font color=\"red\">what is the smallest height of a tree that can store 10 (or any number of) values?</font>"
      ]
    },
    {
      "cell_type": "markdown",
      "metadata": {
        "id": "pnf9bmBa2doA"
      },
      "source": [
        "## More on time complexity\n",
        "\n",
        "**Video** Refer to [this video](https://mediasite.osu.edu/Mediasite/Play/49e879bba34e48d1b8ad04befa4d13271d) for this part.\n",
        "\n",
        "So what is the time complexity (or running time) for a binary search algorithm as in `search_bt`? Let's first examine the algorithm it self. We use the following pseudo code to do this and we assume the root of the binary tree is denoted as `t` when the algorithm starts.\n",
        "\n",
        "***\n",
        "```\n",
        "while t is not empty:\n",
        "    let p be the data at node t\n",
        "    if p is as same as d:\n",
        "        return p and stop\n",
        "    if d < p:\n",
        "        t = the left child node of t\n",
        "    else:\n",
        "        t = the right child node of t\n",
        "```\n",
        "***\n",
        "\n",
        "The while loop at the beginning of the algorithm actually controls the total running time. What controls the number of loops then? It is the height of the tree and we can certainly calculate the **height** of the tree given two factors: the number of data items to be stored in the tree, and whether the tree is balanced. If the difference between the heights of all leaf nodes is no more than 1, we say the tree is **balanced**. A perfectly balanced tree with a height of $H$ will be able to hold a total of $2^0 +2^1 +2^2 +...+2^H = 2^{H+1}−1$ items. In other words, if we have $n$ items that need to be indexed using a balanced tree, the height of that tree is of the order of, again using the Big-O notation,  $O(\\log_2n)$, which is also the running time of search using that tree. This is a significantly more efficient way of search with a **logarithmic time complexity**.\n",
        "\n",
        "With this, we should be able to answer questions like this: what is the minimum height of a balanced binary tree to hold 100 nodes? We need to find the smallest $H$ value so that $2^{H+1}-1$ is greater than 100. This is also a question for this week's exercises and the Before you go... quiz.\n",
        "\n",
        "More details about the time complexity analysis are in **Section 1.1** in _GIS Algorithms_.\n"
      ]
    },
    {
      "cell_type": "markdown",
      "metadata": {
        "id": "yLjgri822doB"
      },
      "source": [
        "## <font color=\"red\">Exercises</font>\n",
        "\n",
        "Use the Python code introduced in this tutorial to create a binary tree based on random numbers from the reshuffled numbers. Then use the `tree_print` function to print the tree. The tree printed out should look exact the same as the manually created one. Use the blank code cell below or add additional code cells to enter your answer. Make sure you run the code.\n"
      ]
    },
    {
      "cell_type": "code",
      "metadata": {
        "id": "PdbTs20M2doB",
        "colab": {
          "base_uri": "https://localhost:8080/"
        },
        "outputId": "4bf0355d-45d2-4720-9b80-a73759af73ee"
      },
      "source": [
        "\n",
        "print('The numbers are', test_nums)\n",
        "# TODO: write your code here to answer the above question,\n",
        "#       using the numbers in test_nums\n",
        "\n",
        "t1 = bt(test_nums)\n",
        "tree_print(t1)\n"
      ],
      "execution_count": null,
      "outputs": [
        {
          "output_type": "stream",
          "name": "stdout",
          "text": [
            "The numbers are [6, 2, 9, 11, 3, 0, 8, 4, 1, 7, 5, 10]\n",
            "    ___6____    \n",
            "   /        \\   \n",
            "  2_        9_  \n",
            " /  \\      /  \\ \n",
            "0   3     8   11\n",
            "/\\  /\\    /\\  /\\\n",
            " 1   4   7   10 \n",
            " /\\  /\\  /\\  /\\ \n",
            "      5         \n",
            "      /\\        \n"
          ]
        }
      ]
    },
    {
      "cell_type": "markdown",
      "metadata": {
        "id": "J5c9A5_k2doB"
      },
      "source": [
        "## <font color=\"red\">Exercises</font>\n",
        "\n",
        "Is the above tree balanced? What will be the minimal height of a binary tree for the 12 unique numbers? What will be the number at the root node? There is no need to write code for this one. **Write your answer directly in this cell.**\n",
        "\n"
      ]
    },
    {
      "cell_type": "markdown",
      "metadata": {
        "id": "sg3G458wTZJ1"
      },
      "source": []
    }
  ]
}