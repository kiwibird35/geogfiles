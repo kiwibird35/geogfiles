{
  "nbformat": 4,
  "nbformat_minor": 0,
  "metadata": {
    "colab": {
      "provenance": [],
      "authorship_tag": "ABX9TyNTdALJGUUy5s8iaAIypbZB",
      "include_colab_link": true
    },
    "kernelspec": {
      "name": "python3",
      "display_name": "Python 3"
    },
    "language_info": {
      "name": "python"
    }
  },
  "cells": [
    {
      "cell_type": "markdown",
      "metadata": {
        "id": "view-in-github",
        "colab_type": "text"
      },
      "source": [
        "<a href=\"https://colab.research.google.com/github/kiwibird35/geogfiles/blob/main/Quiz_2_Question_3_KFA.ipynb\" target=\"_parent\"><img src=\"https://colab.research.google.com/assets/colab-badge.svg\" alt=\"Open In Colab\"/></a>"
      ]
    },
    {
      "cell_type": "markdown",
      "metadata": {
        "id": "LJdA71PbOSos"
      },
      "source": [
        "#Question 3, Part 2"
      ]
    },
    {
      "cell_type": "code",
      "metadata": {
        "colab": {
          "base_uri": "https://localhost:8080/"
        },
        "id": "RYS8cukLOP5Q",
        "outputId": "eef39a81-f58b-499b-f78a-de24250ff90e"
      },
      "source": [
        "!git clone https://github.com/gisalgs/geom.git\n",
        "!git clone https://github.com/gisalgs/data.git\n",
        "from geom.point import *\n",
        "from geom.centroid import *\n",
        "from geom.shapex import*\n",
        "from data import*\n",
        "from geom.point_in_polygon import *"
      ],
      "execution_count": null,
      "outputs": [
        {
          "output_type": "stream",
          "name": "stdout",
          "text": [
            "fatal: destination path 'geom' already exists and is not an empty directory.\n",
            "fatal: destination path 'data' already exists and is not an empty directory.\n"
          ]
        }
      ]
    },
    {
      "cell_type": "code",
      "metadata": {
        "colab": {
          "base_uri": "https://localhost:8080/"
        },
        "id": "f5GDgV2oPifa",
        "outputId": "123fcf04-9953-4aeb-c648-8721a422c334"
      },
      "source": [
        "poly = {\n",
        "    \"type\": \"Feature\",\n",
        "    \"geometry\": {\n",
        "        \"type\": \"Polygon\",\n",
        "        \"coordinates\":[\n",
        "            [[125.6, 10.1], [120.5, 12.6], [110.3, 11.1], [125.6, 10.1]\n",
        "            ]\n",
        "        ]\n",
        "    },\n",
        "    \"properties\": {\"name\": \"Good Island\", \"income\": 1234.5}\n",
        "}\n",
        "poly_points = []\n",
        "\n",
        "geom = poly['geometry']['coordinates']\n",
        "for p in geom[0]:\n",
        "  poly_points.append([p[0], p[1]])\n",
        "\n",
        "poly_polygon = [Point(p[0], p[1]) for p in poly_points]\n",
        "\n",
        "results = (centroid(poly_polygon))\n",
        "print('The centroid of poly is %s'%(results[1]))"
      ],
      "execution_count": null,
      "outputs": [
        {
          "output_type": "stream",
          "name": "stdout",
          "text": [
            "The centroid of poly is (118.8, 11.3)\n"
          ]
        }
      ]
    },
    {
      "cell_type": "code",
      "metadata": {
        "colab": {
          "base_uri": "https://localhost:8080/"
        },
        "id": "6JM9U0smS0xT",
        "outputId": "c796c6ef-c0e9-4de1-d8c3-ac0e5dc690be"
      },
      "source": [
        "def in_or_out(pip_result):\n",
        "    if pip_result:\n",
        "        return 1\n",
        "    return 0\n",
        "p1 = Point(125, 12)\n",
        "pts = [p1]\n",
        "results = [in_or_out(pip_cross(p, poly_polygon)[0]) for p in pts]\n",
        "for p in [p1]:\n",
        "    print(f'Point {p} is {\"IN\" if pip_cross(p, poly_polygon)[0] is True else \"OUT\"}')"
      ],
      "execution_count": null,
      "outputs": [
        {
          "output_type": "stream",
          "name": "stdout",
          "text": [
            "Point (125, 12) is OUT\n"
          ]
        }
      ]
    }
  ]
}